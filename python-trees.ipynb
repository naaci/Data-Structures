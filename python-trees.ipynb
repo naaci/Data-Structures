{
 "cells": [
  {
   "cell_type": "markdown",
   "id": "banned-tissue",
   "metadata": {},
   "source": [
    "# Trees Structures\n"
   ]
  },
  {
   "cell_type": "markdown",
   "metadata": {},
   "source": [
    "## Binary Trees\n",
    "In computer science, a binary tree is a tree data structure in which each node has at most two children, referred to as the ***left*** child and the ***right*** child. "
   ]
  },
  {
   "cell_type": "markdown",
   "metadata": {},
   "source": [
    "### `BinaryTreeNode` class definition"
   ]
  },
  {
   "cell_type": "markdown",
   "metadata": {},
   "source": [
    "Like `LinkedList` class first we define a class for nodes. But unlike `LinkedListNode`, `BinaryTreeNode` have __two__ pointers to other nodes namely `left` and `right`.\n",
    "\n",
    "A binary tree is called ***proper*** if each node has either\n",
    "zero or two children. \n",
    "Thus, in a proper binary tree, every internal node has exactly two children.\n",
    "A binary tree that is not proper is called ***improper***."
   ]
  },
  {
   "cell_type": "code",
   "execution_count": 531,
   "id": "narrow-missile",
   "metadata": {},
   "outputs": [],
   "source": [
    "class BinaryTreeNode:\n",
    "    left = None\n",
    "    right = None\n",
    "\n",
    "    def __init__(self, data):\n",
    "        self.data = data"
   ]
  },
  {
   "cell_type": "markdown",
   "metadata": {},
   "source": [
    "```mermaid\n",
    "graph \n",
    "    subgraph node1[BinaryTreeNode]\n",
    "            data1[data]\n",
    "            left1[left]\n",
    "            right1[right]\n",
    "        end\n",
    "left1 --> None1[None]\n",
    "right1 --> None2[None]\n",
    "```"
   ]
  },
  {
   "cell_type": "code",
   "execution_count": 532,
   "id": "falling-setup",
   "metadata": {},
   "outputs": [],
   "source": [
    "node1 = BinaryTreeNode(2)\n",
    "node2 = BinaryTreeNode(3)\n",
    "node3 = BinaryTreeNode(5)\n",
    "node1.left = node2\n",
    "node1.right = node3"
   ]
  },
  {
   "cell_type": "code",
   "execution_count": 533,
   "id": "typical-anniversary",
   "metadata": {},
   "outputs": [
    {
     "data": {
      "text/plain": [
       "(2, 3, 5)"
      ]
     },
     "execution_count": 533,
     "metadata": {},
     "output_type": "execute_result"
    }
   ],
   "source": [
    "node1.data, node1.left.data, node1.right.data"
   ]
  },
  {
   "cell_type": "markdown",
   "id": "ea7a2dcc",
   "metadata": {},
   "source": [
    "### `BinaryTree` class definition"
   ]
  },
  {
   "cell_type": "markdown",
   "id": "2ea60498",
   "metadata": {},
   "source": [
    "Initially `BinaryTree` object will have only one attribute namely `root` which defaults to `None` meaning that the list is empty."
   ]
  },
  {
   "cell_type": "code",
   "execution_count": 534,
   "id": "aware-track",
   "metadata": {},
   "outputs": [],
   "source": [
    "class BinaryTree:\n",
    "    root: BinaryTreeNode | None = None"
   ]
  },
  {
   "cell_type": "markdown",
   "metadata": {},
   "source": [
    "```mermaid\n",
    "graph \n",
    "    subgraph BinaryTree\n",
    "            root\n",
    "        end\n",
    "    root --> None\n",
    "```"
   ]
  },
  {
   "cell_type": "markdown",
   "id": "33c3073c",
   "metadata": {},
   "source": [
    "After initialization of a `BinaryTree` object, we create and set the root node and the remaining nodes as follows:"
   ]
  },
  {
   "cell_type": "code",
   "execution_count": 535,
   "id": "competent-batch",
   "metadata": {},
   "outputs": [],
   "source": [
    "tree1 = BinaryTree()\n",
    "tree1.root = BinaryTreeNode(1)\n",
    "tree1.root.left = BinaryTreeNode(2)\n",
    "tree1.root.right = BinaryTreeNode(3)\n",
    "tree1.root.left.left = BinaryTreeNode(4)"
   ]
  },
  {
   "cell_type": "markdown",
   "metadata": {},
   "source": [
    "```mermaid\n",
    "graph \n",
    "    subgraph BinaryTree\n",
    "            root\n",
    "        end\n",
    "    subgraph node1[BinaryTreeNode]\n",
    "            data1[1]\n",
    "            left1[left]\n",
    "            right1[right]\n",
    "        end\n",
    "    subgraph node2[BinaryTreeNode]\n",
    "            data2[2]\n",
    "            left2[left]\n",
    "            right2[right]\n",
    "        end\n",
    "    subgraph node3[BinaryTreeNode]\n",
    "            data3[3]\n",
    "            left3[left]\n",
    "            right3[right]\n",
    "        end\n",
    "    subgraph node4[BinaryTreeNode]\n",
    "            data4[4]\n",
    "            left4[left]\n",
    "            right4[right]\n",
    "        end\n",
    "    root --> node1\n",
    "left1 --> node2\n",
    "right1 --> node3\n",
    "left2 --> node4\n",
    "right2 --> None2[None]\n",
    "left3 --> None7[None]\n",
    "right3 --> None4[None]\n",
    "left4 --> None5[None]\n",
    "right4 --> None6[None]\n",
    "```"
   ]
  },
  {
   "cell_type": "code",
   "execution_count": 536,
   "id": "given-quarter",
   "metadata": {},
   "outputs": [
    {
     "data": {
      "text/plain": [
       "(1, 2, 3, 4)"
      ]
     },
     "execution_count": 536,
     "metadata": {},
     "output_type": "execute_result"
    }
   ],
   "source": [
    "tree1.root.data, tree1.root.left.data, tree1.root.right.data, tree1.root.left.left.data"
   ]
  },
  {
   "cell_type": "markdown",
   "id": "745f005a",
   "metadata": {},
   "source": [
    "### List the nodes when representing the `BinaryTree` object"
   ]
  },
  {
   "cell_type": "markdown",
   "id": "f27766ca",
   "metadata": {},
   "source": [
    "If you just write an object to the Python interpretor, Python calls `repr` function on the object."
   ]
  },
  {
   "cell_type": "code",
   "execution_count": 537,
   "id": "a972d019",
   "metadata": {},
   "outputs": [
    {
     "data": {
      "text/plain": [
       "<__main__.BinaryTree at 0x7f807ac16390>"
      ]
     },
     "execution_count": 537,
     "metadata": {},
     "output_type": "execute_result"
    }
   ],
   "source": [
    "tree1"
   ]
  },
  {
   "cell_type": "markdown",
   "id": "81cf483b",
   "metadata": {},
   "source": [
    "Now we want to change the behavior of `repr` function to list the nodes of the `BinaryTree` object. For this we need to re-implement `__repr__` method."
   ]
  },
  {
   "cell_type": "code",
   "execution_count": 538,
   "id": "87643570",
   "metadata": {},
   "outputs": [],
   "source": [
    "class BinaryTreeNode(BinaryTreeNode):\n",
    "    def __repr__(self):\n",
    "        return repr(self.data)\n",
    "\n",
    "    def __str__(self):\n",
    "        if self.left is None and self.right is None:\n",
    "            return str(self.data)\n",
    "\n",
    "        return f\"{self.data}({self.left},{self.right})\"\n",
    "\n",
    "\n",
    "class BinaryTree(BinaryTree):\n",
    "    def __repr__(self):\n",
    "        return str(self.root)"
   ]
  },
  {
   "cell_type": "code",
   "execution_count": 539,
   "id": "a5e42108",
   "metadata": {},
   "outputs": [],
   "source": [
    "tree1 = BinaryTree()\n",
    "tree1.root = BinaryTreeNode(1)\n",
    "tree1.root.left = BinaryTreeNode(2)\n",
    "tree1.root.right = BinaryTreeNode(3)\n",
    "tree1.root.right.left = BinaryTreeNode(4)\n",
    "tree1.root.right.right = BinaryTreeNode(5)"
   ]
  },
  {
   "cell_type": "code",
   "execution_count": 540,
   "id": "b88f65ae",
   "metadata": {},
   "outputs": [
    {
     "data": {
      "text/plain": [
       "1(2,3(4,5))"
      ]
     },
     "execution_count": 540,
     "metadata": {},
     "output_type": "execute_result"
    }
   ],
   "source": [
    "tree1"
   ]
  },
  {
   "cell_type": "markdown",
   "metadata": {},
   "source": [
    "## Ordered `BinaryTree` (`BinarySearchTree`)\n",
    "A Binary Tree is __ordered__ if the data of each node being **greater** than all the nodes in the respective node's **left** subtree and less than the ones in its right subtree."
   ]
  },
  {
   "cell_type": "code",
   "execution_count": 541,
   "metadata": {},
   "outputs": [
    {
     "data": {
      "text/plain": [
       "5(2,21(20,41))"
      ]
     },
     "execution_count": 541,
     "metadata": {},
     "output_type": "execute_result"
    }
   ],
   "source": [
    "class BinarySearchTreeNode(BinaryTreeNode):\n",
    "    def __lt__(self, node: BinaryTreeNode):\n",
    "        return node is None or self.data < node.data\n",
    "\n",
    "    def __gt__(self, node: BinaryTreeNode):\n",
    "        return node is None or self.data > node.data\n",
    "\n",
    "    def add_node(self, node):\n",
    "        if self > node:\n",
    "            if self.left is None:\n",
    "                self.left = node\n",
    "            else:\n",
    "                self.left.add_node(node)\n",
    "        if self < node:\n",
    "            if self.right is None:\n",
    "                self.right = node\n",
    "            else:\n",
    "                self.right.add_node(node)\n",
    "\n",
    "\n",
    "class BinarySearchTree(BinaryTree):\n",
    "    def add_node(self, value):\n",
    "        node = BinarySearchTreeNode(value)\n",
    "        if self.root is None:\n",
    "            self.root = BinarySearchTreeNode(value)\n",
    "        else:\n",
    "            self.root.add_node(node)\n",
    "\n",
    "\n",
    "bst1 = BinarySearchTree()\n",
    "bst1.add_node(5)\n",
    "bst1.add_node(2)\n",
    "bst1.add_node(21)\n",
    "bst1.add_node(41)\n",
    "bst1.add_node(20)\n",
    "bst1"
   ]
  },
  {
   "cell_type": "markdown",
   "metadata": {},
   "source": [
    "## Exercise: Search `BinarySearchTree`"
   ]
  },
  {
   "cell_type": "code",
   "execution_count": 542,
   "metadata": {},
   "outputs": [
    {
     "name": "stdout",
     "output_type": "stream",
     "text": [
      "21(20,41)\n"
     ]
    }
   ],
   "source": [
    "def search_ordered_tree(tree: BinarySearchTree, value) -> BinarySearchTreeNode | None:\n",
    "    node = tree.root\n",
    "    while node is not None:\n",
    "        if value == node.data:\n",
    "            return node\n",
    "        if value < node.data:\n",
    "            node = node.left\n",
    "        else:\n",
    "            node = node.right\n",
    "\n",
    "\n",
    "print(search_ordered_tree(bst1, 21))"
   ]
  },
  {
   "cell_type": "markdown",
   "metadata": {},
   "source": [
    "## Exercise: Test if a `BinaryTree` is ordered"
   ]
  },
  {
   "cell_type": "code",
   "execution_count": 543,
   "metadata": {},
   "outputs": [],
   "source": [
    "class BinaryTreeNode(BinaryTreeNode):\n",
    "    def __lt__(self, node: BinaryTreeNode):\n",
    "        return node is None or self.data < node.data\n",
    "\n",
    "    def __gt__(self, node: BinaryTreeNode):\n",
    "        return node is None or self.data > node.data\n",
    "\n",
    "\n",
    "def is_ordered_node(node: BinaryTreeNode) -> True | False:\n",
    "    if node is None:\n",
    "        return True\n",
    "    if node.left < node < node.right:\n",
    "        return is_ordered_node(node.left) and is_ordered_node(node.right)\n",
    "    return False\n",
    "\n",
    "\n",
    "def is_ordered_tree(tree: BinaryTree) -> True | False:\n",
    "    return is_ordered_node(tree.root)"
   ]
  },
  {
   "cell_type": "code",
   "execution_count": 544,
   "metadata": {},
   "outputs": [
    {
     "data": {
      "text/plain": [
       "False"
      ]
     },
     "execution_count": 544,
     "metadata": {},
     "output_type": "execute_result"
    }
   ],
   "source": [
    "\n",
    "tree1 = BinaryTree()\n",
    "tree1.root = BinaryTreeNode(1)\n",
    "tree1.root.left = BinaryTreeNode(2)\n",
    "tree1.root.right = BinaryTreeNode(3)\n",
    "tree1.root.right.left = BinaryTreeNode(4)\n",
    "tree1.root.right.right = BinaryTreeNode(5)\n",
    "\n",
    "is_ordered_tree(tree1)"
   ]
  },
  {
   "cell_type": "code",
   "execution_count": 545,
   "metadata": {},
   "outputs": [
    {
     "data": {
      "text/plain": [
       "True"
      ]
     },
     "execution_count": 545,
     "metadata": {},
     "output_type": "execute_result"
    }
   ],
   "source": [
    "tree2 = BinaryTree()\n",
    "tree2.root = BinaryTreeNode(9)\n",
    "tree2.root.left = BinaryTreeNode(5)\n",
    "tree2.root.right = BinaryTreeNode(16)\n",
    "tree2.root.right.left = BinaryTreeNode(10)\n",
    "tree2.root.right.right = BinaryTreeNode(25)\n",
    "is_ordered_tree(tree2)"
   ]
  },
  {
   "cell_type": "markdown",
   "metadata": {},
   "source": [
    "### Exercise: Iterating over the nodes.\n",
    "We can iterate over the binary tree recursively on nodes."
   ]
  },
  {
   "cell_type": "code",
   "execution_count": 546,
   "metadata": {},
   "outputs": [],
   "source": [
    "class BinaryTreeNode(BinaryTreeNode):\n",
    "    def __iter__(self):\n",
    "        yield self\n",
    "        if self.left is not None:\n",
    "            for node in iter(self.left):\n",
    "                yield node\n",
    "        if self.right is not None:\n",
    "            for node in iter(self.right):\n",
    "                yield node\n",
    "\n",
    "\n",
    "class BinaryTree(BinaryTree):\n",
    "    def __iter__(self):\n",
    "        if self.root is not None:\n",
    "            return iter(self.root)"
   ]
  },
  {
   "cell_type": "code",
   "execution_count": 547,
   "metadata": {},
   "outputs": [],
   "source": [
    "tree1 = BinaryTree()\n",
    "tree1.root = BinaryTreeNode(1)\n",
    "tree1.root.left = BinaryTreeNode(2)\n",
    "tree1.root.right = BinaryTreeNode(3)\n",
    "tree1.root.left.left = BinaryTreeNode(4)\n",
    "tree1.root.left.right = BinaryTreeNode(5)"
   ]
  },
  {
   "cell_type": "code",
   "execution_count": 548,
   "metadata": {},
   "outputs": [
    {
     "data": {
      "text/plain": [
       "[1, 2, 4, 5, 3]"
      ]
     },
     "execution_count": 548,
     "metadata": {},
     "output_type": "execute_result"
    }
   ],
   "source": [
    "list(tree1)"
   ]
  },
  {
   "cell_type": "markdown",
   "metadata": {},
   "source": [
    "## Tree\n",
    "For general trees instead of `left` and `right` attributes, we define `children` attribute as a list. If `children` attribute is empty `TreeNode` is a **leaf**."
   ]
  },
  {
   "cell_type": "markdown",
   "metadata": {},
   "source": [
    "```mermaid\n",
    "graph \n",
    "    subgraph node1[TreeNode]\n",
    "        data1[data]\n",
    "        children1[children]\n",
    "    end\n",
    "    subgraph children2list[ ]\n",
    "    end\n",
    "\n",
    "children1 --> children2list\n",
    "```"
   ]
  },
  {
   "cell_type": "code",
   "execution_count": 549,
   "metadata": {},
   "outputs": [],
   "source": [
    "class TreeNode():\n",
    "    children: list\n",
    "\n",
    "    def is_leaf(self):\n",
    "        return len(self.children) == 0\n",
    "\n",
    "    def __init__(self, data=None):\n",
    "        self.data = data\n",
    "        self.children = []\n",
    "\n",
    "    def __repr__(self):\n",
    "        return repr(self.data)\n",
    "\n",
    "    def __str__(self):\n",
    "        if self.is_leaf():\n",
    "            return str(self.data)\n",
    "\n",
    "        return f\"{self.data}({','.join(map(str,self.children))})\"\n",
    "\n",
    "    def __iter__(self):\n",
    "        yield self\n",
    "        for child in self.children:\n",
    "            for node in child:\n",
    "                yield node\n",
    "\n",
    "    def __getitem__(self, position: int):\n",
    "        return self.children[position]\n",
    "\n",
    "    def append(self, value):\n",
    "        self.children.append(node := TreeNode(value))\n",
    "        return node\n",
    "\n",
    "    def extend(self, values):\n",
    "        self.children.extend(map(TreeNode, values))"
   ]
  },
  {
   "cell_type": "code",
   "execution_count": 550,
   "metadata": {},
   "outputs": [],
   "source": [
    "\n",
    "class Tree:\n",
    "    def __init__(self) -> None:\n",
    "        self.root = None\n",
    "\n",
    "    def __repr__(self):\n",
    "        return str(self.root)\n",
    "\n",
    "    def __iter__(self):\n",
    "        if self.root is not None:\n",
    "            return iter(self.root)"
   ]
  },
  {
   "cell_type": "markdown",
   "metadata": {},
   "source": [
    "An example `Tree`\n",
    "```mermaid\n",
    "graph \n",
    "    subgraph Tree\n",
    "        root\n",
    "    end\n",
    "    subgraph node1[TreeNode]\n",
    "        data1[data]\n",
    "        children1[children]\n",
    "    end\n",
    "    subgraph children2list[ ]\n",
    "        subgraph node2[TreeNode]\n",
    "            data2[data]\n",
    "            children2[children]\n",
    "        end\n",
    "        subgraph node3[TreeNode]\n",
    "            data3[data]\n",
    "            children3[children]\n",
    "        end\n",
    "        subgraph node4[TreeNode]\n",
    "            data4[data]\n",
    "            children4[children]\n",
    "        end\n",
    "    end\n",
    "    subgraph children4list[ ]\n",
    "        subgraph node5[TreeNode]\n",
    "            data5[data]\n",
    "            children5[children]\n",
    "        end\n",
    "    end\n",
    "    subgraph children3list[ ]\n",
    "    end\n",
    "    subgraph children5list[ ]\n",
    "    end\n",
    "    subgraph children6list[ ]\n",
    "    end\n",
    "    root --> node1\n",
    "\n",
    "children1 --> children2list\n",
    "children2 --> children3list\n",
    "children3 --> children4list\n",
    "children4 --> children5list\n",
    "children5 --> children6list\n",
    "```"
   ]
  },
  {
   "cell_type": "code",
   "execution_count": 568,
   "metadata": {},
   "outputs": [
    {
     "data": {
      "text/plain": [
       "/(bin,lib,usr(lib32,lib64(kernel)))"
      ]
     },
     "execution_count": 568,
     "metadata": {},
     "output_type": "execute_result"
    }
   ],
   "source": [
    "tree2 = Tree()\n",
    "tree2.root = TreeNode(\"/\")\n",
    "tree2.root.extend([\"bin\",\"lib\",\"usr\"])\n",
    "tree2.root[2].append(\"lib32\")\n",
    "tree2.root[2].append(\"lib64\")\n",
    "tree2.root[2][1].append(\"kernel\")\n",
    "tree2"
   ]
  },
  {
   "cell_type": "markdown",
   "metadata": {},
   "source": [
    "### Exercise: `Tree` from its string representaiton"
   ]
  },
  {
   "cell_type": "code",
   "execution_count": 569,
   "metadata": {},
   "outputs": [],
   "source": [
    "class Tree(Tree):\n",
    "    @classmethod\n",
    "    def from_string(cls, data, typ=str):\n",
    "        tree = Tree()\n",
    "\n",
    "        parent = None\n",
    "        a = \"\"\n",
    "        for c in data:\n",
    "            if c in \",() \":\n",
    "                if a:\n",
    "                    node = TreeNode(typ(a))\n",
    "                    a = \"\"\n",
    "                    if parent is None:\n",
    "                        tree.root = node\n",
    "                    else:\n",
    "                        parent.children.append(node)\n",
    "                    node.parent = parent\n",
    "                    if c == \"(\":\n",
    "                        parent = node\n",
    "                    elif c == \")\":\n",
    "                        parent = parent.parent\n",
    "            else:\n",
    "                a += c\n",
    "\n",
    "        return tree"
   ]
  },
  {
   "cell_type": "code",
   "execution_count": 570,
   "metadata": {},
   "outputs": [
    {
     "data": {
      "text/plain": [
       "0(1,2(5(6),3,4))"
      ]
     },
     "execution_count": 570,
     "metadata": {},
     "output_type": "execute_result"
    }
   ],
   "source": [
    "tree = Tree.from_string(\"0(1,2(5(6)),3,4)\")\n",
    "tree"
   ]
  },
  {
   "cell_type": "markdown",
   "metadata": {},
   "source": [
    "## Exercise: Pretty Print `Tree`"
   ]
  },
  {
   "cell_type": "code",
   "execution_count": 571,
   "metadata": {},
   "outputs": [],
   "source": [
    "def pprint(node, level=0):\n",
    "    print(\"--\"*level, repr(node), sep=\"\")\n",
    "    for node in node.children:\n",
    "        pprint(node, level=level+1)"
   ]
  },
  {
   "cell_type": "code",
   "execution_count": 572,
   "metadata": {},
   "outputs": [
    {
     "name": "stdout",
     "output_type": "stream",
     "text": [
      "'Python Builtin Types'\n",
      "--'COLLECTION ( x in a )'\n",
      "----'iter'\n",
      "----'enumerate'\n",
      "----'map'\n",
      "----'reversed'\n",
      "----'filter'\n",
      "----'FINITE ( len(a) )'\n",
      "------'set'\n",
      "------'frozenset'\n",
      "------'SEQUENCE ( a[i] )'\n",
      "--------'tuple'\n",
      "--------'bytes'\n",
      "--------'str'\n",
      "--------'range'\n",
      "--------'MUTABLE SEQUENCE ( a[i] = x )'\n",
      "----------'list'\n",
      "----------'bytearray'\n",
      "----------'memoryview'\n",
      "------'MAPPING ( a[k] , a[k] = x )'\n",
      "--------'dict'\n"
     ]
    }
   ],
   "source": [
    "python_builtin_types = TreeNode(\"Python Builtin Types\")\n",
    "\n",
    "collection = python_builtin_types.append(\"COLLECTION ( x in a )\")\n",
    "# contextmanager = root.append(\"contextmanager ( __enter__ , __exit__ )\")\n",
    "\n",
    "collection.append(\"iter\")\n",
    "collection.append(\"enumerate\")\n",
    "collection.append(\"map\")\n",
    "collection.append(\"reversed\")\n",
    "collection.append(\"filter\")\n",
    "\n",
    "finite = collection.append(\"FINITE ( len(a) )\")\n",
    "# infinite = collection.append(\"INFINITE\")\n",
    "\n",
    "finite.append(\"set\")\n",
    "finite.append(\"frozenset\")\n",
    "\n",
    "sequences = finite.append(\"SEQUENCE ( a[i] )\")\n",
    "mapping=finite.append(\"MAPPING ( a[k] , a[k] = x )\")\n",
    "mapping.append(\"dict\")\n",
    "\n",
    "sequences.append(\"tuple\")\n",
    "sequences.append(\"bytes\")\n",
    "sequences.append(\"str\")\n",
    "sequences.append(\"range\")\n",
    "\n",
    "mut_sequences = sequences.append(\"MUTABLE SEQUENCE ( a[i] = x )\")\n",
    "mut_sequences.append(\"list\")\n",
    "mut_sequences.append(\"bytearray\")\n",
    "mut_sequences.append(\"memoryview\")\n",
    "\n",
    "pprint(python_builtin_types)"
   ]
  },
  {
   "cell_type": "markdown",
   "metadata": {},
   "source": [
    "### Exercise: Use `graphviz` modulke to draw a `Tree`"
   ]
  },
  {
   "cell_type": "code",
   "execution_count": 573,
   "metadata": {},
   "outputs": [
    {
     "data": {
      "image/svg+xml": [
       "<?xml version=\"1.0\" encoding=\"UTF-8\" standalone=\"no\"?>\n",
       "<!DOCTYPE svg PUBLIC \"-//W3C//DTD SVG 1.1//EN\"\n",
       " \"http://www.w3.org/Graphics/SVG/1.1/DTD/svg11.dtd\">\n",
       "<!-- Generated by graphviz version 2.43.0 (0)\n",
       " -->\n",
       "<!-- Title: %3 Pages: 1 -->\n",
       "<svg width=\"263pt\" height=\"260pt\"\n",
       " viewBox=\"0.00 0.00 263.30 260.00\" xmlns=\"http://www.w3.org/2000/svg\" xmlns:xlink=\"http://www.w3.org/1999/xlink\">\n",
       "<g id=\"graph0\" class=\"graph\" transform=\"scale(1 1) rotate(0) translate(4 256)\">\n",
       "<title>%3</title>\n",
       "<polygon fill=\"white\" stroke=\"transparent\" points=\"-4,4 -4,-256 259.3,-256 259.3,4 -4,4\"/>\n",
       "<!-- / -->\n",
       "<g id=\"node1\" class=\"node\">\n",
       "<title>/</title>\n",
       "<ellipse fill=\"none\" stroke=\"black\" cx=\"99\" cy=\"-234\" rx=\"27\" ry=\"18\"/>\n",
       "<text text-anchor=\"middle\" x=\"99\" y=\"-230.3\" font-family=\"Times,serif\" font-size=\"14.00\">/</text>\n",
       "</g>\n",
       "<!-- bin -->\n",
       "<g id=\"node2\" class=\"node\">\n",
       "<title>bin</title>\n",
       "<ellipse fill=\"none\" stroke=\"black\" cx=\"27\" cy=\"-162\" rx=\"27\" ry=\"18\"/>\n",
       "<text text-anchor=\"middle\" x=\"27\" y=\"-158.3\" font-family=\"Times,serif\" font-size=\"14.00\">bin</text>\n",
       "</g>\n",
       "<!-- /&#45;&#45;bin -->\n",
       "<g id=\"edge1\" class=\"edge\">\n",
       "<title>/&#45;&#45;bin</title>\n",
       "<path fill=\"none\" stroke=\"black\" d=\"M84.43,-218.83C72.02,-206.77 54.27,-189.51 41.8,-177.38\"/>\n",
       "</g>\n",
       "<!-- lib -->\n",
       "<g id=\"node3\" class=\"node\">\n",
       "<title>lib</title>\n",
       "<ellipse fill=\"none\" stroke=\"black\" cx=\"99\" cy=\"-162\" rx=\"27\" ry=\"18\"/>\n",
       "<text text-anchor=\"middle\" x=\"99\" y=\"-158.3\" font-family=\"Times,serif\" font-size=\"14.00\">lib</text>\n",
       "</g>\n",
       "<!-- /&#45;&#45;lib -->\n",
       "<g id=\"edge2\" class=\"edge\">\n",
       "<title>/&#45;&#45;lib</title>\n",
       "<path fill=\"none\" stroke=\"black\" d=\"M99,-215.7C99,-204.85 99,-190.92 99,-180.1\"/>\n",
       "</g>\n",
       "<!-- usr -->\n",
       "<g id=\"node4\" class=\"node\">\n",
       "<title>usr</title>\n",
       "<ellipse fill=\"none\" stroke=\"black\" cx=\"171\" cy=\"-162\" rx=\"27\" ry=\"18\"/>\n",
       "<text text-anchor=\"middle\" x=\"171\" y=\"-158.3\" font-family=\"Times,serif\" font-size=\"14.00\">usr</text>\n",
       "</g>\n",
       "<!-- /&#45;&#45;usr -->\n",
       "<g id=\"edge6\" class=\"edge\">\n",
       "<title>/&#45;&#45;usr</title>\n",
       "<path fill=\"none\" stroke=\"black\" d=\"M113.57,-218.83C125.98,-206.77 143.73,-189.51 156.2,-177.38\"/>\n",
       "</g>\n",
       "<!-- lib32 -->\n",
       "<g id=\"node5\" class=\"node\">\n",
       "<title>lib32</title>\n",
       "<ellipse fill=\"none\" stroke=\"black\" cx=\"128\" cy=\"-90\" rx=\"34.39\" ry=\"18\"/>\n",
       "<text text-anchor=\"middle\" x=\"128\" y=\"-86.3\" font-family=\"Times,serif\" font-size=\"14.00\">lib32</text>\n",
       "</g>\n",
       "<!-- usr&#45;&#45;lib32 -->\n",
       "<g id=\"edge3\" class=\"edge\">\n",
       "<title>usr&#45;&#45;lib32</title>\n",
       "<path fill=\"none\" stroke=\"black\" d=\"M161.24,-145.12C154.3,-133.82 145.01,-118.7 138.02,-107.31\"/>\n",
       "</g>\n",
       "<!-- lib64 -->\n",
       "<g id=\"node6\" class=\"node\">\n",
       "<title>lib64</title>\n",
       "<ellipse fill=\"none\" stroke=\"black\" cx=\"215\" cy=\"-90\" rx=\"34.39\" ry=\"18\"/>\n",
       "<text text-anchor=\"middle\" x=\"215\" y=\"-86.3\" font-family=\"Times,serif\" font-size=\"14.00\">lib64</text>\n",
       "</g>\n",
       "<!-- usr&#45;&#45;lib64 -->\n",
       "<g id=\"edge5\" class=\"edge\">\n",
       "<title>usr&#45;&#45;lib64</title>\n",
       "<path fill=\"none\" stroke=\"black\" d=\"M180.98,-145.12C188.08,-133.82 197.59,-118.7 204.75,-107.31\"/>\n",
       "</g>\n",
       "<!-- kernel -->\n",
       "<g id=\"node7\" class=\"node\">\n",
       "<title>kernel</title>\n",
       "<ellipse fill=\"none\" stroke=\"black\" cx=\"215\" cy=\"-18\" rx=\"40.09\" ry=\"18\"/>\n",
       "<text text-anchor=\"middle\" x=\"215\" y=\"-14.3\" font-family=\"Times,serif\" font-size=\"14.00\">kernel</text>\n",
       "</g>\n",
       "<!-- lib64&#45;&#45;kernel -->\n",
       "<g id=\"edge4\" class=\"edge\">\n",
       "<title>lib64&#45;&#45;kernel</title>\n",
       "<path fill=\"none\" stroke=\"black\" d=\"M215,-71.7C215,-60.85 215,-46.92 215,-36.1\"/>\n",
       "</g>\n",
       "</g>\n",
       "</svg>\n"
      ],
      "text/plain": [
       "<graphviz.graphs.Graph at 0x7f807accfd10>"
      ]
     },
     "execution_count": 573,
     "metadata": {},
     "output_type": "execute_result"
    }
   ],
   "source": [
    "import graphviz\n",
    "\n",
    "\n",
    "def draw_tree_node(node: TreeNode, dot=None):\n",
    "    dot = dot or graphviz.Graph()\n",
    "    dot.node(a := str(node.data))\n",
    "    for child in node.children:\n",
    "        draw_tree_node(child, dot)\n",
    "        dot.edge(a, str(child.data))\n",
    "    return dot\n",
    "\n",
    "\n",
    "draw_tree_node(tree2.root)"
   ]
  },
  {
   "cell_type": "markdown",
   "id": "bd80f2f1",
   "metadata": {},
   "source": [
    "##  `DoublyLinkedTree`\n",
    "Like `DoublyLinkedList` we can also define `DoublyLinkedTree`. For this we need to re-implement class `TreeNode` as `TreeNode2` and add the `parent` attribute."
   ]
  },
  {
   "cell_type": "code",
   "execution_count": 574,
   "id": "41121897",
   "metadata": {},
   "outputs": [],
   "source": [
    "class TreeNode2(TreeNode):\n",
    "    parent = None\n",
    "\n",
    "    def append(self, data):\n",
    "        node = TreeNode2(data)\n",
    "        self.children.append(node)\n",
    "        node.parent = self"
   ]
  },
  {
   "cell_type": "markdown",
   "id": "79a841e8",
   "metadata": {},
   "source": [
    "and instead of `BinaryTree` class we now define `DoublyLinkedBinaryTree` class using `BinaryTreeNode2`."
   ]
  },
  {
   "cell_type": "code",
   "execution_count": 575,
   "id": "46f525bc",
   "metadata": {},
   "outputs": [],
   "source": [
    "class DoublyLinkedTree(Tree):\n",
    "    root: TreeNode2 | None = None"
   ]
  },
  {
   "cell_type": "markdown",
   "id": "1895e5d2",
   "metadata": {
    "slideshow": {
     "slide_type": "slide"
    }
   },
   "source": [
    "An example `DoublyLinkedTree`\n",
    "```mermaid\n",
    "graph \n",
    "    subgraph DoublyLinkedTree\n",
    "        root\n",
    "    end\n",
    "    subgraph node1[TreeNode2]\n",
    "        data1[data]\n",
    "        children1[children]\n",
    "        parent1[parent]\n",
    "    end\n",
    "    subgraph children2list[ ]\n",
    "        subgraph node2[TreeNode2]\n",
    "            data2[data]\n",
    "            children2[children]\n",
    "            parent2[parent]\n",
    "        end\n",
    "        subgraph node3[TreeNode2]\n",
    "            data3[data]\n",
    "            children3[children]\n",
    "            parent3[parent]\n",
    "        end\n",
    "        subgraph node4[TreeNode2]\n",
    "            data4[data]\n",
    "            children4[children]\n",
    "            parent4[parent]\n",
    "        end\n",
    "    end\n",
    "    subgraph children4list[ ]\n",
    "        subgraph node5[TreeNode2]\n",
    "            data5[data]\n",
    "            children5[children]\n",
    "            parent5[parent]\n",
    "        end\n",
    "    end\n",
    "    subgraph children3list[ ]\n",
    "    end\n",
    "    subgraph children5list[ ]\n",
    "    end\n",
    "    subgraph children6list[ ]\n",
    "    end\n",
    "    root --> node1\n",
    "\n",
    "children1 --> children2list\n",
    "children2 --> children3list\n",
    "children3 --> children4list\n",
    "children4 --> children5list\n",
    "children5 --> children6list\n",
    "None1[None] --- parent1\n",
    "node1 --- parent2\n",
    "node1 --- parent3\n",
    "node1 --- parent4\n",
    "node3 --- parent5\n",
    "```"
   ]
  },
  {
   "cell_type": "code",
   "execution_count": 576,
   "id": "3cb00d9f",
   "metadata": {},
   "outputs": [
    {
     "data": {
      "image/svg+xml": [
       "<?xml version=\"1.0\" encoding=\"UTF-8\" standalone=\"no\"?>\n",
       "<!DOCTYPE svg PUBLIC \"-//W3C//DTD SVG 1.1//EN\"\n",
       " \"http://www.w3.org/Graphics/SVG/1.1/DTD/svg11.dtd\">\n",
       "<!-- Generated by graphviz version 2.43.0 (0)\n",
       " -->\n",
       "<!-- Title: %3 Pages: 1 -->\n",
       "<svg width=\"134pt\" height=\"188pt\"\n",
       " viewBox=\"0.00 0.00 134.00 188.00\" xmlns=\"http://www.w3.org/2000/svg\" xmlns:xlink=\"http://www.w3.org/1999/xlink\">\n",
       "<g id=\"graph0\" class=\"graph\" transform=\"scale(1 1) rotate(0) translate(4 184)\">\n",
       "<title>%3</title>\n",
       "<polygon fill=\"white\" stroke=\"transparent\" points=\"-4,4 -4,-184 130,-184 130,4 -4,4\"/>\n",
       "<!-- 1 -->\n",
       "<g id=\"node1\" class=\"node\">\n",
       "<title>1</title>\n",
       "<ellipse fill=\"none\" stroke=\"black\" cx=\"63\" cy=\"-162\" rx=\"27\" ry=\"18\"/>\n",
       "<text text-anchor=\"middle\" x=\"63\" y=\"-158.3\" font-family=\"Times,serif\" font-size=\"14.00\">1</text>\n",
       "</g>\n",
       "<!-- 2 -->\n",
       "<g id=\"node2\" class=\"node\">\n",
       "<title>2</title>\n",
       "<ellipse fill=\"none\" stroke=\"black\" cx=\"63\" cy=\"-90\" rx=\"27\" ry=\"18\"/>\n",
       "<text text-anchor=\"middle\" x=\"63\" y=\"-86.3\" font-family=\"Times,serif\" font-size=\"14.00\">2</text>\n",
       "</g>\n",
       "<!-- 1&#45;&#45;2 -->\n",
       "<g id=\"edge3\" class=\"edge\">\n",
       "<title>1&#45;&#45;2</title>\n",
       "<path fill=\"none\" stroke=\"black\" d=\"M63,-143.7C63,-132.85 63,-118.92 63,-108.1\"/>\n",
       "</g>\n",
       "<!-- 3 -->\n",
       "<g id=\"node3\" class=\"node\">\n",
       "<title>3</title>\n",
       "<ellipse fill=\"none\" stroke=\"black\" cx=\"27\" cy=\"-18\" rx=\"27\" ry=\"18\"/>\n",
       "<text text-anchor=\"middle\" x=\"27\" y=\"-14.3\" font-family=\"Times,serif\" font-size=\"14.00\">3</text>\n",
       "</g>\n",
       "<!-- 2&#45;&#45;3 -->\n",
       "<g id=\"edge1\" class=\"edge\">\n",
       "<title>2&#45;&#45;3</title>\n",
       "<path fill=\"none\" stroke=\"black\" d=\"M54.65,-72.76C48.83,-61.46 41.11,-46.44 35.3,-35.15\"/>\n",
       "</g>\n",
       "<!-- 4 -->\n",
       "<g id=\"node4\" class=\"node\">\n",
       "<title>4</title>\n",
       "<ellipse fill=\"none\" stroke=\"black\" cx=\"99\" cy=\"-18\" rx=\"27\" ry=\"18\"/>\n",
       "<text text-anchor=\"middle\" x=\"99\" y=\"-14.3\" font-family=\"Times,serif\" font-size=\"14.00\">4</text>\n",
       "</g>\n",
       "<!-- 2&#45;&#45;4 -->\n",
       "<g id=\"edge2\" class=\"edge\">\n",
       "<title>2&#45;&#45;4</title>\n",
       "<path fill=\"none\" stroke=\"black\" d=\"M71.35,-72.76C77.17,-61.46 84.89,-46.44 90.7,-35.15\"/>\n",
       "</g>\n",
       "</g>\n",
       "</svg>\n"
      ],
      "text/plain": [
       "<graphviz.graphs.Graph at 0x7f807acf6f10>"
      ]
     },
     "execution_count": 576,
     "metadata": {},
     "output_type": "execute_result"
    }
   ],
   "source": [
    "tree3 = DoublyLinkedTree()\n",
    "tree3.root = TreeNode2(1)\n",
    "tree3.root.append(2)\n",
    "tree3.root[0].append(3)\n",
    "tree3.root[0].append(4)\n",
    "draw_tree_node(tree3.root)\n",
    "# tree3"
   ]
  },
  {
   "cell_type": "markdown",
   "metadata": {},
   "source": [
    "### Exercise: Finding The `root` of a `DoublyLinkedTree`\n",
    "Given a `TreeNode2`, we can easily calculate the `root` of a `DoublyLinkedTree` recursively."
   ]
  },
  {
   "cell_type": "code",
   "execution_count": 577,
   "metadata": {},
   "outputs": [],
   "source": [
    "def get_root(node: TreeNode2):\n",
    "    if node.parent is None:\n",
    "        return node\n",
    "    return get_root(node.parent)"
   ]
  },
  {
   "cell_type": "code",
   "execution_count": 578,
   "metadata": {},
   "outputs": [
    {
     "data": {
      "text/plain": [
       "1"
      ]
     },
     "execution_count": 578,
     "metadata": {},
     "output_type": "execute_result"
    }
   ],
   "source": [
    "get_root(tree3.root[0][0])"
   ]
  },
  {
   "cell_type": "markdown",
   "metadata": {},
   "source": [
    "### Exercise: Finding The `depth` of a `TreeNode2`\n",
    "`depth` of a `TreeNode` is the number of ancestors of it, excluding itself. For a `TreeNode2` we can easily calculate the `depth` recursively.\n"
   ]
  },
  {
   "cell_type": "code",
   "execution_count": 579,
   "metadata": {},
   "outputs": [],
   "source": [
    "def find_depth(node: TreeNode2) -> int:\n",
    "    if node.parent is None:\n",
    "        return 0\n",
    "    return 1 + find_depth(node.parent)"
   ]
  },
  {
   "cell_type": "code",
   "execution_count": 580,
   "metadata": {},
   "outputs": [
    {
     "data": {
      "text/plain": [
       "2"
      ]
     },
     "execution_count": 580,
     "metadata": {},
     "output_type": "execute_result"
    }
   ],
   "source": [
    "find_depth(tree3.root[0][0])"
   ]
  },
  {
   "cell_type": "markdown",
   "metadata": {},
   "source": [
    "## Length and Height of a tree\n",
    "We define the `length` of a tree as the total number of nodes in that tree. The `height` of a tree is the maximum depth int that tree."
   ]
  },
  {
   "cell_type": "code",
   "execution_count": 581,
   "metadata": {},
   "outputs": [],
   "source": [
    "class Tree(Tree):\n",
    "    def length(self, node=...):\n",
    "        \"recursive definition of length of a tree or node\"\n",
    "        if node is ...:\n",
    "            node = self.root\n",
    "            if node is None:\n",
    "                return 0\n",
    "        return 1 + sum(map(self.length, node.children))\n",
    "\n",
    "    def height(self, node=...) -> int:\n",
    "        \"recursive definition of height of a tree or node\"\n",
    "        if node is ...:\n",
    "            node = self.root\n",
    "            if node is None:\n",
    "                return 0\n",
    "        return 1 + max(map(self.height, node.children), default=-1)\n",
    "\n",
    "    __len__ = length"
   ]
  },
  {
   "cell_type": "code",
   "execution_count": 582,
   "metadata": {},
   "outputs": [],
   "source": [
    "tree2.__class__ = Tree\n"
   ]
  },
  {
   "cell_type": "code",
   "execution_count": 583,
   "metadata": {},
   "outputs": [
    {
     "data": {
      "image/svg+xml": [
       "<?xml version=\"1.0\" encoding=\"UTF-8\" standalone=\"no\"?>\n",
       "<!DOCTYPE svg PUBLIC \"-//W3C//DTD SVG 1.1//EN\"\n",
       " \"http://www.w3.org/Graphics/SVG/1.1/DTD/svg11.dtd\">\n",
       "<!-- Generated by graphviz version 2.43.0 (0)\n",
       " -->\n",
       "<!-- Title: %3 Pages: 1 -->\n",
       "<svg width=\"263pt\" height=\"260pt\"\n",
       " viewBox=\"0.00 0.00 263.30 260.00\" xmlns=\"http://www.w3.org/2000/svg\" xmlns:xlink=\"http://www.w3.org/1999/xlink\">\n",
       "<g id=\"graph0\" class=\"graph\" transform=\"scale(1 1) rotate(0) translate(4 256)\">\n",
       "<title>%3</title>\n",
       "<polygon fill=\"white\" stroke=\"transparent\" points=\"-4,4 -4,-256 259.3,-256 259.3,4 -4,4\"/>\n",
       "<!-- / -->\n",
       "<g id=\"node1\" class=\"node\">\n",
       "<title>/</title>\n",
       "<ellipse fill=\"none\" stroke=\"black\" cx=\"99\" cy=\"-234\" rx=\"27\" ry=\"18\"/>\n",
       "<text text-anchor=\"middle\" x=\"99\" y=\"-230.3\" font-family=\"Times,serif\" font-size=\"14.00\">/</text>\n",
       "</g>\n",
       "<!-- bin -->\n",
       "<g id=\"node2\" class=\"node\">\n",
       "<title>bin</title>\n",
       "<ellipse fill=\"none\" stroke=\"black\" cx=\"27\" cy=\"-162\" rx=\"27\" ry=\"18\"/>\n",
       "<text text-anchor=\"middle\" x=\"27\" y=\"-158.3\" font-family=\"Times,serif\" font-size=\"14.00\">bin</text>\n",
       "</g>\n",
       "<!-- /&#45;&#45;bin -->\n",
       "<g id=\"edge1\" class=\"edge\">\n",
       "<title>/&#45;&#45;bin</title>\n",
       "<path fill=\"none\" stroke=\"black\" d=\"M84.43,-218.83C72.02,-206.77 54.27,-189.51 41.8,-177.38\"/>\n",
       "</g>\n",
       "<!-- lib -->\n",
       "<g id=\"node3\" class=\"node\">\n",
       "<title>lib</title>\n",
       "<ellipse fill=\"none\" stroke=\"black\" cx=\"99\" cy=\"-162\" rx=\"27\" ry=\"18\"/>\n",
       "<text text-anchor=\"middle\" x=\"99\" y=\"-158.3\" font-family=\"Times,serif\" font-size=\"14.00\">lib</text>\n",
       "</g>\n",
       "<!-- /&#45;&#45;lib -->\n",
       "<g id=\"edge2\" class=\"edge\">\n",
       "<title>/&#45;&#45;lib</title>\n",
       "<path fill=\"none\" stroke=\"black\" d=\"M99,-215.7C99,-204.85 99,-190.92 99,-180.1\"/>\n",
       "</g>\n",
       "<!-- usr -->\n",
       "<g id=\"node4\" class=\"node\">\n",
       "<title>usr</title>\n",
       "<ellipse fill=\"none\" stroke=\"black\" cx=\"171\" cy=\"-162\" rx=\"27\" ry=\"18\"/>\n",
       "<text text-anchor=\"middle\" x=\"171\" y=\"-158.3\" font-family=\"Times,serif\" font-size=\"14.00\">usr</text>\n",
       "</g>\n",
       "<!-- /&#45;&#45;usr -->\n",
       "<g id=\"edge6\" class=\"edge\">\n",
       "<title>/&#45;&#45;usr</title>\n",
       "<path fill=\"none\" stroke=\"black\" d=\"M113.57,-218.83C125.98,-206.77 143.73,-189.51 156.2,-177.38\"/>\n",
       "</g>\n",
       "<!-- lib32 -->\n",
       "<g id=\"node5\" class=\"node\">\n",
       "<title>lib32</title>\n",
       "<ellipse fill=\"none\" stroke=\"black\" cx=\"128\" cy=\"-90\" rx=\"34.39\" ry=\"18\"/>\n",
       "<text text-anchor=\"middle\" x=\"128\" y=\"-86.3\" font-family=\"Times,serif\" font-size=\"14.00\">lib32</text>\n",
       "</g>\n",
       "<!-- usr&#45;&#45;lib32 -->\n",
       "<g id=\"edge3\" class=\"edge\">\n",
       "<title>usr&#45;&#45;lib32</title>\n",
       "<path fill=\"none\" stroke=\"black\" d=\"M161.24,-145.12C154.3,-133.82 145.01,-118.7 138.02,-107.31\"/>\n",
       "</g>\n",
       "<!-- lib64 -->\n",
       "<g id=\"node6\" class=\"node\">\n",
       "<title>lib64</title>\n",
       "<ellipse fill=\"none\" stroke=\"black\" cx=\"215\" cy=\"-90\" rx=\"34.39\" ry=\"18\"/>\n",
       "<text text-anchor=\"middle\" x=\"215\" y=\"-86.3\" font-family=\"Times,serif\" font-size=\"14.00\">lib64</text>\n",
       "</g>\n",
       "<!-- usr&#45;&#45;lib64 -->\n",
       "<g id=\"edge5\" class=\"edge\">\n",
       "<title>usr&#45;&#45;lib64</title>\n",
       "<path fill=\"none\" stroke=\"black\" d=\"M180.98,-145.12C188.08,-133.82 197.59,-118.7 204.75,-107.31\"/>\n",
       "</g>\n",
       "<!-- kernel -->\n",
       "<g id=\"node7\" class=\"node\">\n",
       "<title>kernel</title>\n",
       "<ellipse fill=\"none\" stroke=\"black\" cx=\"215\" cy=\"-18\" rx=\"40.09\" ry=\"18\"/>\n",
       "<text text-anchor=\"middle\" x=\"215\" y=\"-14.3\" font-family=\"Times,serif\" font-size=\"14.00\">kernel</text>\n",
       "</g>\n",
       "<!-- lib64&#45;&#45;kernel -->\n",
       "<g id=\"edge4\" class=\"edge\">\n",
       "<title>lib64&#45;&#45;kernel</title>\n",
       "<path fill=\"none\" stroke=\"black\" d=\"M215,-71.7C215,-60.85 215,-46.92 215,-36.1\"/>\n",
       "</g>\n",
       "</g>\n",
       "</svg>\n"
      ],
      "text/plain": [
       "<graphviz.graphs.Graph at 0x7f807ac7ec50>"
      ]
     },
     "execution_count": 583,
     "metadata": {},
     "output_type": "execute_result"
    }
   ],
   "source": [
    "draw_tree_node(tree2.root)"
   ]
  },
  {
   "cell_type": "code",
   "execution_count": 585,
   "metadata": {},
   "outputs": [
    {
     "data": {
      "text/plain": [
       "(3, 7)"
      ]
     },
     "execution_count": 585,
     "metadata": {},
     "output_type": "execute_result"
    }
   ],
   "source": [
    "tree2.height(), tree2.length()"
   ]
  },
  {
   "cell_type": "markdown",
   "metadata": {},
   "source": [
    "## More on `BinaryTree`\n",
    "### A Formula relating the `height` and `length` of a `BinaryTree`"
   ]
  },
  {
   "cell_type": "markdown",
   "metadata": {},
   "source": [
    "`BinaryTree` objects have several interesting properties dealing with relationships between their `height` and `length`.\n",
    "We denote the set of all nodes of a tree at the same depth $d$ as ***level $d$*** of `Tree`. \n",
    "\n",
    "In a binary tree, \n",
    "- level 0 has at most one node (the root),\n",
    "- level 1 has at most two nodes (the children of the root),\n",
    "- level 2 has at most four nodes,\n",
    "- in general, level d has at most $2^d$ nodes.\n",
    "\n",
    "We can see that the maximum number of nodes on the levels of a `BinaryTree`\n",
    "grows exponentially as we go down the tree. From this simple observation, we can\n",
    "derive the following property relating the height $h$ of a binary tree with its number\n",
    "of nodes $n$. \n",
    "$$h<n<2^{h+1}$$\n",
    "Also if the `BinaryTree` object is proper, then $$2h<n<2^{h+1}$$"
   ]
  },
  {
   "cell_type": "markdown",
   "metadata": {},
   "source": [
    "## Array-Based Representation of a `BinaryTree`"
   ]
  }
 ],
 "metadata": {
  "kernelspec": {
   "display_name": "Python 3 (ipykernel)",
   "language": "python",
   "name": "python3"
  },
  "language_info": {
   "codemirror_mode": {
    "name": "ipython",
    "version": 3
   },
   "file_extension": ".py",
   "mimetype": "text/x-python",
   "name": "python",
   "nbconvert_exporter": "python",
   "pygments_lexer": "ipython3",
   "version": "3.11.2"
  },
  "widgets": {
   "application/vnd.jupyter.widget-state+json": {
    "state": {},
    "version_major": 2,
    "version_minor": 0
   }
  }
 },
 "nbformat": 4,
 "nbformat_minor": 5
}
