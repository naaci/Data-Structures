{
 "cells": [
  {
   "cell_type": "markdown",
   "id": "banned-tissue",
   "metadata": {},
   "source": [
    "# Introduction to Python Classes and Linked Lists"
   ]
  },
  {
   "cell_type": "markdown",
   "id": "heard-hungary",
   "metadata": {},
   "source": [
    "## On Classes in Python\n",
    "\n",
    "Let's create a class for nodes. A class is a blueprint for creating objects. "
   ]
  },
  {
   "cell_type": "code",
   "execution_count": 1237,
   "id": "administrative-spencer",
   "metadata": {},
   "outputs": [],
   "source": [
    "class Node:\n",
    "    pass"
   ]
  },
  {
   "cell_type": "markdown",
   "id": "pressing-cursor",
   "metadata": {},
   "source": [
    "Here we defined the `Node` class that generates an empty object. \n",
    "Then we will create objects by calling its class."
   ]
  },
  {
   "cell_type": "code",
   "execution_count": 1238,
   "id": "ignored-hearing",
   "metadata": {},
   "outputs": [
    {
     "data": {
      "text/plain": [
       "<__main__.Node at 0x7f992c6c9390>"
      ]
     },
     "execution_count": 1238,
     "metadata": {},
     "output_type": "execute_result"
    }
   ],
   "source": [
    "Node()"
   ]
  },
  {
   "cell_type": "markdown",
   "id": "future-structure",
   "metadata": {},
   "source": [
    "We just created an object of the class `Node`. However, it is automatically garbage collected (deleted) because we didn't assignt it to a variable."
   ]
  },
  {
   "cell_type": "code",
   "execution_count": 1239,
   "id": "driven-separate",
   "metadata": {},
   "outputs": [],
   "source": [
    "node1 = Node()"
   ]
  },
  {
   "cell_type": "markdown",
   "id": "helpful-roberts",
   "metadata": {},
   "source": [
    "The *variable* `node1` holds a reference the object, and can be used to retrieve the object."
   ]
  },
  {
   "cell_type": "code",
   "execution_count": 1240,
   "id": "humanitarian-wireless",
   "metadata": {},
   "outputs": [
    {
     "data": {
      "text/plain": [
       "<__main__.Node at 0x7f992c633f50>"
      ]
     },
     "execution_count": 1240,
     "metadata": {},
     "output_type": "execute_result"
    }
   ],
   "source": [
    "node1"
   ]
  },
  {
   "cell_type": "markdown",
   "id": "ready-tours",
   "metadata": {},
   "source": [
    "When we call the `Node()` again, it creates a new object."
   ]
  },
  {
   "cell_type": "code",
   "execution_count": 1241,
   "id": "mature-reflection",
   "metadata": {},
   "outputs": [],
   "source": [
    "node2 = Node()"
   ]
  },
  {
   "cell_type": "code",
   "execution_count": 1242,
   "id": "naval-ocean",
   "metadata": {
    "scrolled": true
   },
   "outputs": [
    {
     "data": {
      "text/plain": [
       "<__main__.Node at 0x7f992c52ac10>"
      ]
     },
     "execution_count": 1242,
     "metadata": {},
     "output_type": "execute_result"
    }
   ],
   "source": [
    "node2"
   ]
  },
  {
   "cell_type": "markdown",
   "id": "tamil-genealogy",
   "metadata": {},
   "source": [
    "Objects `node1` and `node2` are not same because they have different addresses in the RAM. \n",
    "But they are equivalent.\n",
    "Also we can have multiple variables pointing to the same object."
   ]
  },
  {
   "cell_type": "code",
   "execution_count": 1243,
   "id": "015cbb5b",
   "metadata": {},
   "outputs": [
    {
     "data": {
      "text/plain": [
       "False"
      ]
     },
     "execution_count": 1243,
     "metadata": {},
     "output_type": "execute_result"
    }
   ],
   "source": [
    "node1 is node2"
   ]
  },
  {
   "cell_type": "code",
   "execution_count": 1244,
   "id": "fabulous-settle",
   "metadata": {},
   "outputs": [
    {
     "data": {
      "text/plain": [
       "True"
      ]
     },
     "execution_count": 1244,
     "metadata": {},
     "output_type": "execute_result"
    }
   ],
   "source": [
    "node3 = node1\n",
    "node3 is node1"
   ]
  },
  {
   "cell_type": "markdown",
   "id": "possible-petroleum",
   "metadata": {},
   "source": [
    "Our object isn't doing much. Let's give it the ability to store a value. First, we'll store the constant value 0. We can do this using a *constructor*."
   ]
  },
  {
   "cell_type": "code",
   "execution_count": 1245,
   "id": "stylish-leonard",
   "metadata": {},
   "outputs": [],
   "source": [
    "class Node():\n",
    "    def __init__(self):\n",
    "        self.data = 0"
   ]
  },
  {
   "cell_type": "markdown",
   "id": "tired-disclaimer",
   "metadata": {},
   "source": [
    "Two things to note:\n",
    "* The double underscores\n",
    "* The self (a replacement for `this`)\n",
    "* `self.data` creates a property called. We can name a property anything we wish (`val`, `number`, `the_thing_inside` etc. )"
   ]
  },
  {
   "cell_type": "code",
   "execution_count": 1246,
   "id": "timely-webmaster",
   "metadata": {},
   "outputs": [],
   "source": [
    "node4 = Node()"
   ]
  },
  {
   "cell_type": "markdown",
   "id": "iraqi-destination",
   "metadata": {},
   "source": [
    "So internally what's happening is that Python first creates an empty object, stores the reference to the empty object in an temporary variable called `self`, calls the `__init__` function with `self` as the argument, which then sets the property `data` on the created object with the value 0."
   ]
  },
  {
   "cell_type": "code",
   "execution_count": 1247,
   "id": "automatic-sodium",
   "metadata": {},
   "outputs": [
    {
     "data": {
      "text/plain": [
       "0"
      ]
     },
     "execution_count": 1247,
     "metadata": {},
     "output_type": "execute_result"
    }
   ],
   "source": [
    "node4.data"
   ]
  },
  {
   "cell_type": "markdown",
   "id": "uniform-sentence",
   "metadata": {},
   "source": [
    "And we can change the value inside the variable."
   ]
  },
  {
   "cell_type": "code",
   "execution_count": 1248,
   "id": "liked-dating",
   "metadata": {},
   "outputs": [],
   "source": [
    "node4.data = 10"
   ]
  },
  {
   "cell_type": "code",
   "execution_count": 1249,
   "id": "collected-entrance",
   "metadata": {},
   "outputs": [
    {
     "data": {
      "text/plain": [
       "10"
      ]
     },
     "execution_count": 1249,
     "metadata": {},
     "output_type": "execute_result"
    }
   ],
   "source": [
    "node4.data"
   ]
  },
  {
   "cell_type": "markdown",
   "id": "tutorial-hurricane",
   "metadata": {},
   "source": [
    "Let's create nodes with the values 2, 3 and 5"
   ]
  },
  {
   "cell_type": "code",
   "execution_count": 1250,
   "id": "deluxe-desktop",
   "metadata": {},
   "outputs": [],
   "source": [
    "node1 = Node()\n",
    "node1.data = 2"
   ]
  },
  {
   "cell_type": "code",
   "execution_count": 1251,
   "id": "friendly-raising",
   "metadata": {},
   "outputs": [],
   "source": [
    "node2 = Node()\n",
    "node2.data = 3"
   ]
  },
  {
   "cell_type": "code",
   "execution_count": 1252,
   "id": "dated-frost",
   "metadata": {},
   "outputs": [],
   "source": [
    "node3 = Node()\n",
    "node3.data = 5"
   ]
  },
  {
   "cell_type": "code",
   "execution_count": 1253,
   "id": "interpreted-steps",
   "metadata": {},
   "outputs": [
    {
     "data": {
      "text/plain": [
       "(2, 3, 5)"
      ]
     },
     "execution_count": 1253,
     "metadata": {},
     "output_type": "execute_result"
    }
   ],
   "source": [
    "node1.data, node2.data, node3.data"
   ]
  },
  {
   "cell_type": "markdown",
   "id": "vital-watts",
   "metadata": {},
   "source": [
    "While this is OK, there's an easier way to do it."
   ]
  },
  {
   "cell_type": "code",
   "execution_count": 1254,
   "id": "narrow-missile",
   "metadata": {},
   "outputs": [],
   "source": [
    "class Node():\n",
    "    def __init__(self, a_number):\n",
    "        self.data = a_number\n",
    "        self.next = None"
   ]
  },
  {
   "cell_type": "code",
   "execution_count": 1255,
   "id": "falling-setup",
   "metadata": {},
   "outputs": [],
   "source": [
    "node1 = Node(2)\n",
    "node2 = Node(3)\n",
    "node3 = Node(5)"
   ]
  },
  {
   "cell_type": "code",
   "execution_count": 1256,
   "id": "typical-anniversary",
   "metadata": {},
   "outputs": [
    {
     "data": {
      "text/plain": [
       "(2, 3, 5)"
      ]
     },
     "execution_count": 1256,
     "metadata": {},
     "output_type": "execute_result"
    }
   ],
   "source": [
    "node1.data, node2.data, node3.data"
   ]
  },
  {
   "cell_type": "markdown",
   "id": "prime-lucas",
   "metadata": {},
   "source": [
    "## Linked Lists\n",
    "\n",
    "A linked list is a _data structure_ used for storing a sequence of elements."
   ]
  },
  {
   "cell_type": "markdown",
   "id": "b6413e01",
   "metadata": {},
   "source": [
    "\n",
    "We'll implement linked lists which support the following operations:\n",
    "\n",
    "- Append given elements\n",
    "- Iterate over elements\n",
    "- Display the elements in a list\n",
    "- Find the number of elements in a list\n",
    "- Retrieve the element at a given position\n",
    "- Remove element\n",
    "- Get number of elements"
   ]
  },
  {
   "cell_type": "markdown",
   "id": "ea7a2dcc",
   "metadata": {},
   "source": [
    "### `LinkedList` class definition"
   ]
  },
  {
   "cell_type": "markdown",
   "id": "2ea60498",
   "metadata": {},
   "source": [
    "Initially `LinkedList`object will have only one attribute namely `head` which defaults to `None` meaning that the list is empty."
   ]
  },
  {
   "cell_type": "code",
   "execution_count": 1257,
   "id": "aware-track",
   "metadata": {},
   "outputs": [],
   "source": [
    "class LinkedList:\n",
    "    head: Node | None = None"
   ]
  },
  {
   "cell_type": "markdown",
   "id": "d6e9729d",
   "metadata": {},
   "source": [
    "Initial (Empty) list\n",
    "```mermaid\n",
    "graph LR;\n",
    "    classDef List fill:#003000\n",
    "    subgraph list1\n",
    "        head\n",
    "    end\n",
    "    list1:::List\n",
    "    head  --> None;\n",
    "```"
   ]
  },
  {
   "cell_type": "markdown",
   "id": "33c3073c",
   "metadata": {},
   "source": [
    "After initialization of a `LinkedList` object, we create and set the header node and the remaining nodes as follows:"
   ]
  },
  {
   "cell_type": "markdown",
   "id": "512f47c7",
   "metadata": {},
   "source": [
    "List with 3 items\n",
    "```mermaid\n",
    "graph LR;\n",
    "    classDef List fill:#003000\n",
    "    subgraph list1\n",
    "        head\n",
    "    end\n",
    "        subgraph node1[\" \"]\n",
    "            data1[data]\n",
    "            next1[next]\n",
    "        end\n",
    "        subgraph node2[\" \"]\n",
    "            data2[data]\n",
    "            next2[next]\n",
    "        end\n",
    "        subgraph node3[\" \"]\n",
    "            data3[data]\n",
    "            next3[next]\n",
    "        end\n",
    "        None\n",
    "    list1:::List\n",
    "    head  --> node1;\n",
    "    next1 --> node2;\n",
    "    next2 --> node3;\n",
    "    next3 --> None;\n",
    "```"
   ]
  },
  {
   "cell_type": "code",
   "execution_count": 1258,
   "id": "competent-batch",
   "metadata": {},
   "outputs": [],
   "source": [
    "list1 = LinkedList()\n",
    "list1.head = Node(1)\n",
    "list1.head.next = Node(2)\n",
    "list1.head.next.next = Node(3)"
   ]
  },
  {
   "cell_type": "markdown",
   "id": "868d0a0a",
   "metadata": {},
   "source": [
    "Let's test with listing the node's data."
   ]
  },
  {
   "cell_type": "code",
   "execution_count": 1259,
   "id": "given-quarter",
   "metadata": {},
   "outputs": [
    {
     "data": {
      "text/plain": [
       "(1, 2, 3)"
      ]
     },
     "execution_count": 1259,
     "metadata": {},
     "output_type": "execute_result"
    }
   ],
   "source": [
    "list1.head.data, list1.head.next.data, list1.head.next.next.data"
   ]
  },
  {
   "cell_type": "markdown",
   "id": "f00e9385",
   "metadata": {},
   "source": [
    "### Iterating over the nodes.\n",
    "Since we don't know how many nodes will be, it is better to write a method to iterate over the nodes. Here we implement `__iter__` method for this purpose."
   ]
  },
  {
   "cell_type": "code",
   "execution_count": 1260,
   "id": "f196a750",
   "metadata": {},
   "outputs": [],
   "source": [
    "class LinkedList(LinkedList):\n",
    "    def __iter__(self):\n",
    "        node = self.head\n",
    "        while node is not None:\n",
    "            yield node\n",
    "            node = node.next"
   ]
  },
  {
   "cell_type": "code",
   "execution_count": 1261,
   "id": "c8ac4a61",
   "metadata": {},
   "outputs": [],
   "source": [
    "list1.__class__ = LinkedList"
   ]
  },
  {
   "cell_type": "code",
   "execution_count": 1262,
   "id": "20b2e237",
   "metadata": {},
   "outputs": [
    {
     "name": "stdout",
     "output_type": "stream",
     "text": [
      "1, 2, 3, "
     ]
    }
   ],
   "source": [
    "for node in list1:\n",
    "    print(node.data,end=\", \")"
   ]
  },
  {
   "cell_type": "markdown",
   "id": "745f005a",
   "metadata": {},
   "source": [
    "### List the nodes when representing the `LinkedList` object"
   ]
  },
  {
   "cell_type": "markdown",
   "id": "f27766ca",
   "metadata": {},
   "source": [
    "If you just write an object to the Python interpretor, Python prints some brief information about the object. "
   ]
  },
  {
   "cell_type": "code",
   "execution_count": 1263,
   "id": "a972d019",
   "metadata": {},
   "outputs": [
    {
     "data": {
      "text/plain": [
       "<__main__.LinkedList at 0x7f992c633fd0>"
      ]
     },
     "execution_count": 1263,
     "metadata": {},
     "output_type": "execute_result"
    }
   ],
   "source": [
    "list1"
   ]
  },
  {
   "cell_type": "markdown",
   "id": "81cf483b",
   "metadata": {},
   "source": [
    "Now we want to change this behavior and list the nodes of the `LinkedList` object. For this we need to re-implement `__repr__` method."
   ]
  },
  {
   "cell_type": "code",
   "execution_count": 1264,
   "id": "87643570",
   "metadata": {},
   "outputs": [],
   "source": [
    "class LinkedList(LinkedList):\n",
    "    def __repr__(self):\n",
    "        return \", \".join(str(node.data) for node in self)"
   ]
  },
  {
   "cell_type": "code",
   "execution_count": 1265,
   "id": "a5e42108",
   "metadata": {},
   "outputs": [],
   "source": [
    "list1.__class__ = LinkedList"
   ]
  },
  {
   "cell_type": "code",
   "execution_count": 1266,
   "id": "b88f65ae",
   "metadata": {},
   "outputs": [
    {
     "data": {
      "text/plain": [
       "1, 2, 3"
      ]
     },
     "execution_count": 1266,
     "metadata": {},
     "output_type": "execute_result"
    }
   ],
   "source": [
    "list1"
   ]
  },
  {
   "cell_type": "markdown",
   "id": "finnish-marriage",
   "metadata": {},
   "source": [
    "### Some extra methods\n",
    "Let's add a couple of more methods:"
   ]
  },
  {
   "cell_type": "code",
   "execution_count": 1267,
   "id": "enclosed-warrior",
   "metadata": {},
   "outputs": [],
   "source": [
    "class LinkedList(LinkedList):\n",
    "    def isempty(self):\n",
    "        \"True if the list is empty\"\n",
    "        return self.head is None\n",
    "\n",
    "    def __len__(self):\n",
    "        \"Number of nodes in the list.\"\n",
    "        if self.isempty():\n",
    "            return 0\n",
    "\n",
    "        for i, node in enumerate(self):\n",
    "            pass\n",
    "        return i + 1\n",
    "\n",
    "    def __getitem__(self, position):\n",
    "        \"i-th node in the list. If i-th node does not exist returns None\"\n",
    "        for i, node in enumerate(self):\n",
    "            if i == position:\n",
    "                return node.data\n"
   ]
  },
  {
   "cell_type": "code",
   "execution_count": 1268,
   "id": "b5339adc",
   "metadata": {},
   "outputs": [],
   "source": [
    "list1.__class__ = LinkedList"
   ]
  },
  {
   "cell_type": "code",
   "execution_count": 1269,
   "id": "bizarre-syndication",
   "metadata": {},
   "outputs": [
    {
     "data": {
      "text/plain": [
       "3"
      ]
     },
     "execution_count": 1269,
     "metadata": {},
     "output_type": "execute_result"
    }
   ],
   "source": [
    "len(list1)"
   ]
  },
  {
   "cell_type": "code",
   "execution_count": 1270,
   "id": "active-bracket",
   "metadata": {},
   "outputs": [
    {
     "data": {
      "text/plain": [
       "3"
      ]
     },
     "execution_count": 1270,
     "metadata": {},
     "output_type": "execute_result"
    }
   ],
   "source": [
    "list1[2]"
   ]
  },
  {
   "cell_type": "code",
   "execution_count": 1271,
   "id": "closing-album",
   "metadata": {},
   "outputs": [],
   "source": [
    "list1[10]"
   ]
  },
  {
   "cell_type": "markdown",
   "id": "11c924bc",
   "metadata": {},
   "source": [
    "### Inserting a node to `LinkedList` object"
   ]
  },
  {
   "cell_type": "markdown",
   "id": "4baf73bd",
   "metadata": {},
   "source": [
    "To insert `node2` to `list1` between `node1` and `node3`, we set `node1.next` to `node2` and `node2.next` to `node3`.\n",
    "```mermaid\n",
    "graph LR;\n",
    "    classDef List fill:#003000\n",
    "    subgraph list1\n",
    "        head\n",
    "    end\n",
    "        subgraph node1\n",
    "            data1[data]\n",
    "            next1[next]\n",
    "        end\n",
    "        subgraph node2\n",
    "            data2[data]\n",
    "            next2[next]\n",
    "        end\n",
    "        subgraph node3\n",
    "            data3[data]\n",
    "            next3[next]\n",
    "        end\n",
    "        None\n",
    "    list1:::List\n",
    "    head  --> node1;\n",
    "    next1 -->  node2;\n",
    "    next1 .-> node3;\n",
    "    next2 --> node3;\n",
    "    next3 --> None;\n",
    "    linkStyle 1,2 stroke:darkred;\n",
    "```"
   ]
  },
  {
   "cell_type": "code",
   "execution_count": 1272,
   "id": "7dec3b62",
   "metadata": {},
   "outputs": [],
   "source": [
    "class LinkedList(LinkedList):\n",
    "    def insert(self, value, position=0):\n",
    "        \"deletes the node at given position from the list if exists.\"\n",
    "        new_node = Node(value)\n",
    "        if position == 0:\n",
    "            new_node.next = self.head\n",
    "            self.head = new_node\n",
    "        else:\n",
    "            for i, node in enumerate(self):\n",
    "                if i + 1 == position:\n",
    "                    new_node.next = node.next\n",
    "                    node.next = new_node"
   ]
  },
  {
   "cell_type": "code",
   "execution_count": 1273,
   "id": "32bf3649",
   "metadata": {},
   "outputs": [
    {
     "data": {
      "text/plain": [
       "z, a, y, x"
      ]
     },
     "execution_count": 1273,
     "metadata": {},
     "output_type": "execute_result"
    }
   ],
   "source": [
    "list1 = LinkedList()\n",
    "list1.insert(\"x\")\n",
    "list1.insert(\"y\")\n",
    "list1.insert(\"z\")\n",
    "list1.insert(\"a\",1)\n",
    "list1"
   ]
  },
  {
   "cell_type": "markdown",
   "id": "dfdfdcd3",
   "metadata": {},
   "source": [
    "### Removing a node from `LinkedList` object"
   ]
  },
  {
   "cell_type": "markdown",
   "id": "eab96f24",
   "metadata": {},
   "source": [
    "To remove `node2` from `list1`, pointing `node1.next` to `node3` instead of `node2` will be enough.\n",
    "```mermaid\n",
    "graph LR;\n",
    "    classDef List fill:#003000\n",
    "    subgraph list1\n",
    "        head\n",
    "    end\n",
    "        subgraph node1\n",
    "            data1[data]\n",
    "            next1[next]\n",
    "        end\n",
    "        subgraph node2\n",
    "            data2[data]\n",
    "            next2[next]\n",
    "        end\n",
    "        subgraph node3\n",
    "            data3[data]\n",
    "            next3[next]\n",
    "        end\n",
    "        None\n",
    "    list1:::List\n",
    "    head  --> node1;\n",
    "    next1 .->  node2;\n",
    "    next1 --> node3;\n",
    "    next2 --> node3;\n",
    "    next3 --> None;\n",
    "    \n",
    "    linkStyle 1,2 stroke:darkred;\n",
    "```"
   ]
  },
  {
   "cell_type": "code",
   "execution_count": 1274,
   "id": "a8519ed3",
   "metadata": {},
   "outputs": [],
   "source": [
    "class LinkedList(LinkedList):\n",
    "    def __delitem__(self, position):\n",
    "        \"deletes the node at given position from the list if exists.\"\n",
    "        if position == 0:\n",
    "            self.head = self.head.next\n",
    "        else:\n",
    "            for i, node in enumerate(self):\n",
    "                if i + 1 == position and node.next is not None:\n",
    "                    node.next = node.next.next"
   ]
  },
  {
   "cell_type": "code",
   "execution_count": 1275,
   "id": "9eb4fa19",
   "metadata": {},
   "outputs": [],
   "source": [
    "list1.__class__ = LinkedList"
   ]
  },
  {
   "cell_type": "code",
   "execution_count": 1276,
   "id": "a099e39a",
   "metadata": {},
   "outputs": [
    {
     "data": {
      "text/plain": [
       "z, a, y"
      ]
     },
     "execution_count": 1276,
     "metadata": {},
     "output_type": "execute_result"
    }
   ],
   "source": [
    "del list1[3]\n",
    "list1"
   ]
  },
  {
   "cell_type": "code",
   "execution_count": 1277,
   "id": "fad0a386",
   "metadata": {},
   "outputs": [
    {
     "data": {
      "text/plain": [
       "a, y"
      ]
     },
     "execution_count": 1277,
     "metadata": {},
     "output_type": "execute_result"
    }
   ],
   "source": [
    "del list1[0]\n",
    "list1"
   ]
  },
  {
   "cell_type": "markdown",
   "id": "218aa48f",
   "metadata": {},
   "source": [
    "### Exercise: Reversing `LinkedList`\n",
    "\n",
    "Here's a simple function to reverse a linked list."
   ]
  },
  {
   "cell_type": "code",
   "execution_count": 1278,
   "id": "37d4c44f",
   "metadata": {},
   "outputs": [],
   "source": [
    "def reverse(linked_list:LinkedList)->None:\n",
    "    if linked_list.isempty():\n",
    "        return\n",
    "    \n",
    "    node = linked_list.head\n",
    "    prev_node = None\n",
    "    \n",
    "    while node is not None:\n",
    "        next_node = node.next\n",
    "        node.next = prev_node\n",
    "        prev_node = node\n",
    "        node = next_node\n",
    "        \n",
    "    linked_list.head = prev_node"
   ]
  },
  {
   "cell_type": "code",
   "execution_count": 1279,
   "id": "b3f6ed3a",
   "metadata": {},
   "outputs": [
    {
     "data": {
      "text/plain": [
       "y, a"
      ]
     },
     "execution_count": 1279,
     "metadata": {},
     "output_type": "execute_result"
    }
   ],
   "source": [
    "reverse(list1)\n",
    "list1"
   ]
  },
  {
   "cell_type": "markdown",
   "id": "73850559",
   "metadata": {},
   "source": [
    "### Exercise: Impelementing stack as `LinkedList`\n",
    "\n",
    "Stacks should have two methods namely `push` which is already implemented as `insert` and `pop` which removes and gets the last pushed value. Since `LinkedList` objects are fast insertable from the head, we use `push` and `pop` from/to the head."
   ]
  },
  {
   "cell_type": "code",
   "execution_count": 1280,
   "id": "91c89668",
   "metadata": {},
   "outputs": [],
   "source": [
    "class Stack(LinkedList):\n",
    "    def push(self, value):\n",
    "        self.insert(value)\n",
    "\n",
    "    def pop(self):\n",
    "        if self.isempty():\n",
    "            raise StopIteration(\"stack is empty\")\n",
    "        node = self.head\n",
    "        self.head = self.head.next\n",
    "        return node.data"
   ]
  },
  {
   "cell_type": "code",
   "execution_count": 1281,
   "id": "539f51bd",
   "metadata": {},
   "outputs": [
    {
     "name": "stdout",
     "output_type": "stream",
     "text": [
      "three\n",
      "two\n",
      "four\n",
      "one\n",
      "error: stack is empty\n"
     ]
    }
   ],
   "source": [
    "stack1 = Stack()\n",
    "try:\n",
    "    stack1.push(\"one\")\n",
    "    stack1.push(\"two\")\n",
    "    stack1.push(\"three\")\n",
    "    print(stack1.pop())\n",
    "    print(stack1.pop())\n",
    "    stack1.push(\"four\")\n",
    "    print(stack1.pop())\n",
    "    print(stack1.pop())\n",
    "    print(stack1.pop())\n",
    "except StopIteration as err:\n",
    "    print(\"error:\",err)"
   ]
  },
  {
   "cell_type": "markdown",
   "id": "f82a4526",
   "metadata": {},
   "source": [
    "### Appending new nodes to the end of the `LinkedList` object instance.\n",
    "Altough inserting new nodes to head of `LinkedList` is recommended, sometimes we need to append to the end.\n",
    "When appending nodes to end of the list we may iterate to end of the list.\n",
    "But this will be constly."
   ]
  },
  {
   "cell_type": "code",
   "execution_count": 1282,
   "id": "008d672c",
   "metadata": {},
   "outputs": [],
   "source": [
    "class LinkedList(LinkedList):\n",
    "    def append(self, value):\n",
    "        \"creates and appends a new node with the given value to the end of the list\"\n",
    "        node = Node(value)\n",
    "        if self.isempty():\n",
    "            self.head = node\n",
    "        else:\n",
    "            for n in self:\n",
    "                pass\n",
    "            n.next = node"
   ]
  },
  {
   "cell_type": "code",
   "execution_count": 1283,
   "id": "e15b5ace",
   "metadata": {},
   "outputs": [
    {
     "name": "stdout",
     "output_type": "stream",
     "text": [
      "CPU times: user 63.8 ms, sys: 452 µs, total: 64.3 ms\n",
      "Wall time: 64.2 ms\n"
     ]
    }
   ],
   "source": [
    "%%time\n",
    "list1 = LinkedList()\n",
    "for a in range(1000):\n",
    "    list1.append(a)"
   ]
  },
  {
   "cell_type": "code",
   "execution_count": 1284,
   "id": "863792ab",
   "metadata": {},
   "outputs": [
    {
     "name": "stdout",
     "output_type": "stream",
     "text": [
      "CPU times: user 1.19 ms, sys: 201 µs, total: 1.39 ms\n",
      "Wall time: 1.4 ms\n"
     ]
    }
   ],
   "source": [
    "%%time\n",
    "list1 = LinkedList()\n",
    "for a in range(1000):\n",
    "    list1.insert(a)"
   ]
  },
  {
   "cell_type": "markdown",
   "id": "28123a44",
   "metadata": {},
   "source": [
    "Or we can speed up the appending process by adding another attribute `tail` to the `LinkedList` class which will point to the last node.\n",
    "Note that you should modify this `tail` attribute if nessesary when modifying the list.\n",
    "```mermaid\n",
    "graph LR;\n",
    "    classDef List fill:#003000\n",
    "    subgraph list1\n",
    "        head\n",
    "        tail\n",
    "    end\n",
    "        subgraph node1[\" \"]\n",
    "            data1[data]\n",
    "            next1[next]\n",
    "        end\n",
    "        subgraph node2[\" \"]\n",
    "            data2[data]\n",
    "            next2[next]\n",
    "        end\n",
    "        subgraph node3[\" \"]\n",
    "            data3[data]\n",
    "            next3[next]\n",
    "        end\n",
    "        None\n",
    "    list1:::List\n",
    "    head  --> node1;\n",
    "    tail  --> node3;\n",
    "    next1 --> node2;\n",
    "    next2 --> node3;\n",
    "    next3 --> None;\n",
    "    linkStyle 1 stroke:darkred;\n",
    "    style tail stroke:darkred;\n",
    "```"
   ]
  },
  {
   "cell_type": "code",
   "execution_count": 1285,
   "id": "26d53885",
   "metadata": {},
   "outputs": [],
   "source": [
    "class LinkedList2(LinkedList):\n",
    "    tail = None\n",
    "\n",
    "    def append(self, value):\n",
    "        \"creates and appends a new node with the given value to the end of the list\"\n",
    "        node = Node(value)\n",
    "        if self.isempty():\n",
    "            self.head = node\n",
    "            self.tail = node\n",
    "        else:\n",
    "            self.tail.next = node\n",
    "            self.tail = node\n",
    "\n",
    "    def extend(self, values):\n",
    "        \"extends the list by appending the values from an iterable.\"\n",
    "        for value in values:\n",
    "            self.append(value)"
   ]
  },
  {
   "cell_type": "code",
   "execution_count": 1286,
   "id": "31d00242",
   "metadata": {},
   "outputs": [
    {
     "name": "stdout",
     "output_type": "stream",
     "text": [
      "CPU times: user 1.9 ms, sys: 323 µs, total: 2.22 ms\n",
      "Wall time: 2.24 ms\n"
     ]
    }
   ],
   "source": [
    "%%time\n",
    "list1 = LinkedList2()\n",
    "for a in range(1000):\n",
    "    list1.append(a)"
   ]
  },
  {
   "cell_type": "markdown",
   "id": "b4c558ea",
   "metadata": {},
   "source": [
    "### Exercise: Impelementing `CircularLinkedList`"
   ]
  },
  {
   "cell_type": "markdown",
   "id": "f0906618",
   "metadata": {},
   "source": [
    "```mermaid\n",
    "graph LR;\n",
    "    classDef List fill:#003000\n",
    "    subgraph list1\n",
    "        head\n",
    "        tail\n",
    "    end\n",
    "    subgraph node1[\" \"]\n",
    "        data1[data]\n",
    "        next1[next]\n",
    "    end\n",
    "    subgraph node2[\" \"]\n",
    "        data2[data]\n",
    "        next2[next]\n",
    "    end\n",
    "    subgraph node3[\" \"]\n",
    "        data3[data]\n",
    "        next3[next]\n",
    "    end\n",
    "\n",
    "    list1:::List\n",
    "    head  --> node1;\n",
    "    next1 --> node2;\n",
    "    next2 --> node3;\n",
    "    node1 --- next3;\n",
    "    tail  --> node3;\n",
    "    linkStyle 3 stroke:darkred;\n",
    "```"
   ]
  },
  {
   "cell_type": "code",
   "execution_count": 1287,
   "id": "ba430dd8",
   "metadata": {},
   "outputs": [],
   "source": [
    "class CircularLinkedList(LinkedList2):\n",
    "    def append(self, value):\n",
    "        \"creates and appends a new node with the given value to the end of the list\"\n",
    "        node = Node(value)\n",
    "        if self.isempty():\n",
    "            self.head = node\n",
    "            self.tail = node\n",
    "        else:\n",
    "            self.tail.next = node\n",
    "            self.tail = node\n",
    "        node.next = self.head\n",
    "\n",
    "    def __len__(self):\n",
    "        if self.isempty():\n",
    "            return 0\n",
    "\n",
    "        for i, node in enumerate(self):\n",
    "            if node is self.head:\n",
    "                return i+1\n",
    "\n",
    "    def nodes(self):\n",
    "        \"iterate only nodes without circulation\"\n",
    "        for node in self:\n",
    "            yield node\n",
    "            if node.next == self.head:\n",
    "                return\n",
    "\n",
    "    def __repr__(self):\n",
    "        return f'{\", \".join(str(node.data) for node in self.nodes())}, ...'"
   ]
  },
  {
   "cell_type": "code",
   "execution_count": 1300,
   "id": "a76e7b21",
   "metadata": {},
   "outputs": [
    {
     "data": {
      "text/plain": [
       "one, two, three, four, ..."
      ]
     },
     "execution_count": 1300,
     "metadata": {},
     "output_type": "execute_result"
    }
   ],
   "source": [
    "list4 = CircularLinkedList()\n",
    "list4.append(\"one\")\n",
    "list4.append(\"two\")\n",
    "list4.append(\"three\")\n",
    "list4.append(\"four\")\n",
    "list4"
   ]
  },
  {
   "cell_type": "markdown",
   "id": "bd80f2f1",
   "metadata": {},
   "source": [
    "## Doubly Linked Lists\n",
    "Using doubly linked lists we can also append fast to the end. For this we first redefine `Node` class as `Node2`"
   ]
  },
  {
   "cell_type": "code",
   "execution_count": 1289,
   "id": "41121897",
   "metadata": {},
   "outputs": [],
   "source": [
    "class Node2():\n",
    "    def __init__(self, a_number):\n",
    "        self.data = a_number\n",
    "        self.prev = None\n",
    "        self.next = None"
   ]
  },
  {
   "cell_type": "markdown",
   "id": "79a841e8",
   "metadata": {},
   "source": [
    "and instead of `LinkedList` class we now define `DoublyLinkedList` class using `Node2`."
   ]
  },
  {
   "cell_type": "code",
   "execution_count": 1290,
   "id": "46f525bc",
   "metadata": {},
   "outputs": [],
   "source": [
    "class DoublyLinkedList(LinkedList):\n",
    "    head = None\n",
    "    tail = None\n",
    "\n",
    "    def appendleft(self, data):\n",
    "        node = Node2(data)\n",
    "        if self.head is None:\n",
    "            self.head = node\n",
    "            self.tail = node\n",
    "        else:\n",
    "            self.head.prev = node\n",
    "            node.next = self.head\n",
    "            self.head = node\n",
    "\n",
    "    def append(self, data):\n",
    "        node = Node2(data)\n",
    "        if self.head is None:\n",
    "            self.head = node\n",
    "            self.tail = node\n",
    "        else:\n",
    "            self.tail.next = node\n",
    "            node.prev = self.tail\n",
    "            self.tail = node"
   ]
  },
  {
   "cell_type": "markdown",
   "id": "1895e5d2",
   "metadata": {},
   "source": [
    "```mermaid\n",
    "flowchart LR;\n",
    "    classDef List fill:#003000\n",
    "    subgraph list1\n",
    "        head\n",
    "        tail\n",
    "    end\n",
    "    none2[None]\n",
    "    subgraph node1\n",
    "        data1[data];\n",
    "        next1[next];\n",
    "        prev1[prev];\n",
    "    end\n",
    "    subgraph node2\n",
    "        data2[data];\n",
    "        next2[next];\n",
    "        prev2[prev];\n",
    "    end\n",
    "    subgraph node3\n",
    "        data3[data];\n",
    "        next3[next];\n",
    "        prev3[prev];\n",
    "    end\n",
    "\n",
    "    list1:::List\n",
    "    \n",
    "    head  --> node1\n",
    "    next1 --> node2\n",
    "    next2 --> node3\n",
    "    next3 --> none1[None]\n",
    "\n",
    "\n",
    "    tail  --> node3\n",
    "    \n",
    "    %%prev1 ----> none2\n",
    "    none2 --- prev1\n",
    "    node1 --- prev2\n",
    "    node2 --- prev3\n",
    "```"
   ]
  },
  {
   "cell_type": "code",
   "execution_count": 1291,
   "id": "3cb00d9f",
   "metadata": {},
   "outputs": [],
   "source": [
    "list3 = DoublyLinkedList()\n",
    "list3.append(0)"
   ]
  },
  {
   "cell_type": "code",
   "execution_count": 1292,
   "id": "b4f8faaa",
   "metadata": {},
   "outputs": [
    {
     "name": "stdout",
     "output_type": "stream",
     "text": [
      "CPU times: user 57 µs, sys: 10 µs, total: 67 µs\n",
      "Wall time: 75.1 µs\n"
     ]
    }
   ],
   "source": [
    "%%time\n",
    "list3.append(1)\n",
    "list3.append(2)\n",
    "list3.append(3)"
   ]
  },
  {
   "cell_type": "code",
   "execution_count": 1293,
   "id": "34174d16",
   "metadata": {},
   "outputs": [
    {
     "name": "stdout",
     "output_type": "stream",
     "text": [
      "CPU times: user 47 µs, sys: 8 µs, total: 55 µs\n",
      "Wall time: 62.2 µs\n"
     ]
    }
   ],
   "source": [
    "%%time\n",
    "list3.appendleft(-1)\n",
    "list3.appendleft(-2)\n",
    "list3.appendleft(-3)"
   ]
  },
  {
   "cell_type": "code",
   "execution_count": 1294,
   "id": "62ed4985",
   "metadata": {},
   "outputs": [
    {
     "data": {
      "text/plain": [
       "-3, -2, -1, 0, 1, 2, 3"
      ]
     },
     "execution_count": 1294,
     "metadata": {},
     "output_type": "execute_result"
    }
   ],
   "source": [
    "list3"
   ]
  },
  {
   "cell_type": "code",
   "execution_count": 1295,
   "id": "c789c20a",
   "metadata": {},
   "outputs": [],
   "source": [
    "class DoublyLinkedList(DoublyLinkedList):\n",
    "    def __delitem__(self,position):\n",
    "        for i,node in enumerate(self):\n",
    "            if i == position:\n",
    "                node.prev.next = node.next\n",
    "                node.next.prev = node.prev"
   ]
  },
  {
   "cell_type": "code",
   "execution_count": 1296,
   "id": "6782498b",
   "metadata": {},
   "outputs": [],
   "source": [
    "list3 = DoublyLinkedList()\n",
    "for i in range(10):\n",
    "    list3.append(i)"
   ]
  },
  {
   "cell_type": "code",
   "execution_count": 1297,
   "id": "c2adc455",
   "metadata": {},
   "outputs": [
    {
     "data": {
      "text/plain": [
       "1"
      ]
     },
     "execution_count": 1297,
     "metadata": {},
     "output_type": "execute_result"
    }
   ],
   "source": [
    "list3[1]"
   ]
  },
  {
   "cell_type": "code",
   "execution_count": 1298,
   "id": "b7a5e627",
   "metadata": {},
   "outputs": [
    {
     "data": {
      "text/plain": [
       "10"
      ]
     },
     "execution_count": 1298,
     "metadata": {},
     "output_type": "execute_result"
    }
   ],
   "source": [
    "len(list3)\n",
    "# list3.__len__()"
   ]
  },
  {
   "cell_type": "code",
   "execution_count": 1299,
   "id": "8efd00bd",
   "metadata": {},
   "outputs": [
    {
     "data": {
      "text/plain": [
       "0, 1, 3, 4, 5, 6, 7, 8, 9"
      ]
     },
     "execution_count": 1299,
     "metadata": {},
     "output_type": "execute_result"
    }
   ],
   "source": [
    "del list3[2]\n",
    "list3"
   ]
  },
  {
   "cell_type": "code",
   "execution_count": 1,
   "id": "d1ea82b3",
   "metadata": {},
   "outputs": [
    {
     "data": {
      "text/html": [
       "<script src=\"//cdn.rawgit.com/bollwyvl/53e64cdafba38461943b/raw/0815758d591dfaf0f4918b388aed1bf11d82160d/mermaid.full.js\"></script>\n",
       "<style>\n",
       "    .mermaid *{font-family: sans-serif; }\n",
       "    .mermaid .node, .mermaid .cluster{\n",
       "      fill: white !important;\n",
       "      stroke: black !important;\n",
       "      stroke-width: 1px !important;\n",
       "    }\n",
       "    .mermaid div{\n",
       "      text-align: center;\n",
       "    }\n",
       "    .mermaid .label{\n",
       "      color: black;\n",
       "    }\n",
       "</style>\n",
       "<script>$(function(){\n",
       "    // mermaid load a touch weirdly: try immediately, but try again later if it's not available\n",
       "    var initMermaid = function(){\n",
       "        return (window.mermaid && mermaid.init()) || setTimeout(initMermaid, 50);         \n",
       "    }\n",
       "    initMermaid();\n",
       "\n",
       "    // for live editing, re-render only the text of the current cell\n",
       "    window.IPython && $(IPython.events).on(\"rendered.MarkdownCell\", function(evt, data){\n",
       "        // this is using a hacked mermaid that accepts some nodes!\n",
       "        mermaid.init(undefined, data.cell.element.find(\".mermaid\"));\n",
       "    });\n",
       "});</script>\n",
       "\n"
      ],
      "text/plain": [
       "<IPython.core.display.HTML object>"
      ]
     },
     "metadata": {},
     "output_type": "display_data"
    }
   ],
   "source": [
    "%%html\n",
    "<script src=\"//cdn.rawgit.com/bollwyvl/53e64cdafba38461943b/raw/0815758d591dfaf0f4918b388aed1bf11d82160d/mermaid.full.js\"></script>\n",
    "<style>\n",
    "    .mermaid *{font-family: sans-serif; }\n",
    "    .mermaid .node, .mermaid .cluster{\n",
    "      fill: white !important;\n",
    "      stroke: black !important;\n",
    "      stroke-width: 1px !important;\n",
    "    }\n",
    "    .mermaid div{\n",
    "      text-align: center;\n",
    "    }\n",
    "    .mermaid .label{\n",
    "      color: black;\n",
    "    }\n",
    "</style>\n",
    "<script>$(function(){\n",
    "    // mermaid load a touch weirdly: try immediately, but try again later if it's not available\n",
    "    var initMermaid = function(){\n",
    "        return (window.mermaid && mermaid.init()) || setTimeout(initMermaid, 50);         \n",
    "    }\n",
    "    initMermaid();\n",
    "\n",
    "    // for live editing, re-render only the text of the current cell\n",
    "    window.IPython && $(IPython.events).on(\"rendered.MarkdownCell\", function(evt, data){\n",
    "        // this is using a hacked mermaid that accepts some nodes!\n",
    "        mermaid.init(undefined, data.cell.element.find(\".mermaid\"));\n",
    "    });\n",
    "});</script>\n",
    "\n"
   ]
  }
 ],
 "metadata": {
  "kernelspec": {
   "display_name": "Python 3 (ipykernel)",
   "language": "python",
   "name": "python3"
  },
  "language_info": {
   "codemirror_mode": {
    "name": "ipython",
    "version": 3
   },
   "file_extension": ".py",
   "mimetype": "text/x-python",
   "name": "python",
   "nbconvert_exporter": "python",
   "pygments_lexer": "ipython3",
   "version": "3.11.2"
  },
  "widgets": {
   "application/vnd.jupyter.widget-state+json": {
    "state": {},
    "version_major": 2,
    "version_minor": 0
   }
  }
 },
 "nbformat": 4,
 "nbformat_minor": 5
}
