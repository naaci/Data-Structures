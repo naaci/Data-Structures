{
 "cells": [
  {
   "cell_type": "markdown",
   "id": "banned-tissue",
   "metadata": {},
   "source": [
    "# ISO9660 File System Reader Project"
   ]
  },
  {
   "cell_type": "markdown",
   "id": "90279541",
   "metadata": {},
   "source": [
    "## Python `ctypes` Module"
   ]
  },
  {
   "cell_type": "markdown",
   "id": "e0c1ae57",
   "metadata": {},
   "source": [
    "For data structures in this project we will use Python's `ctypes` module.\n",
    "It is in the standart library so you don't need to install additional modules. \n",
    "You can also use the `struct` module."
   ]
  },
  {
   "cell_type": "code",
   "execution_count": 8,
   "id": "2d945c43",
   "metadata": {},
   "outputs": [],
   "source": [
    "from ctypes import c_int8, c_uint8, c_char, c_uint16, c_uint32, sizeof"
   ]
  },
  {
   "cell_type": "markdown",
   "id": "d15a6aa7",
   "metadata": {},
   "source": [
    "All *multibyte* data in ISO9660 file system is written as both *little endian* (also called LSB) and *big endian* (also called MSB).\n",
    "For this project we choose the `LittleEndianStructure`. We won't use the big endian fields. "
   ]
  },
  {
   "cell_type": "code",
   "execution_count": 9,
   "id": "cdd17ac2",
   "metadata": {},
   "outputs": [],
   "source": [
    "from ctypes import LittleEndianStructure"
   ]
  },
  {
   "cell_type": "markdown",
   "id": "74514b09",
   "metadata": {},
   "source": [
    "## Data Structures"
   ]
  },
  {
   "cell_type": "markdown",
   "id": "8b2dba60",
   "metadata": {},
   "source": [
    "### Date and Time Format in `DirectoryEntry`s\n",
    "Each field in the `DirectoryEntryDateTime` structure is encoded as `c_uint8` except the time zone (`tz`) which is encoded as `c_int8` denoting the time difference from GMT in 15 minute intervals."
   ]
  },
  {
   "cell_type": "code",
   "execution_count": 10,
   "id": "c6a55950",
   "metadata": {},
   "outputs": [],
   "source": [
    "class DirectoryEntryDateTime(LittleEndianStructure):\n",
    "    _pack_ = 1\n",
    "    _fields_ = [\n",
    "        (\"year\", c_uint8),\n",
    "        (\"month\", c_uint8),\n",
    "        (\"day\", c_uint8),\n",
    "        (\"hour\", c_uint8),\n",
    "        (\"minute\", c_uint8),\n",
    "        (\"second\", c_uint8),\n",
    "        (\"tz\", c_int8),\n",
    "    ]\n",
    "\n",
    "    def __repr__(self) -> str:\n",
    "        return (\n",
    "            f\"{self.year+1900}-{self.month}-{self.day} \"\n",
    "            f\"{self.hour}:{self.minute}:{self.second} \"\n",
    "            f\"{self.tz//4:+02}:{self.tz*15%60:02}\"\n",
    "        )"
   ]
  },
  {
   "cell_type": "markdown",
   "id": "c1b41687",
   "metadata": {},
   "source": [
    "### `DirectoryEntry`s\n",
    "A directory is an array of `DirectoryEntry`s, each points to a file or subdirectory in the directory."
   ]
  },
  {
   "cell_type": "code",
   "execution_count": 11,
   "id": "6ca8fd88",
   "metadata": {},
   "outputs": [],
   "source": [
    "from pathlib import Path\n",
    "\n",
    "\n",
    "def get_directory(directory_entry): ...\n",
    "def read_file(directory_entry): ...\n",
    "\n",
    "\n",
    "class DirectoryEntry(LittleEndianStructure):\n",
    "    _pack_ = 1\n",
    "    _fields_ = [\n",
    "        (\"length\", c_uint8),  # length of this structure + the file name\n",
    "        (\"eattr_length\", c_uint8),\n",
    "\n",
    "        (\"location_of_extent\", c_uint32),  # block number of the actual file\n",
    "        (\"reserved\", c_uint32),  # used for big endian\n",
    "        (\"size_of_extent\", c_uint32),  # size in bytes of the actual file\n",
    "        (\"reserved\", c_uint32),  # used for big endian\n",
    "\n",
    "        (\"datetime\", DirectoryEntryDateTime),  # 7\n",
    "        (\"flags\", c_uint8),\n",
    "        (\"unit_size\", c_uint8),\n",
    "        (\"gap_size\", c_uint8),\n",
    "\n",
    "        (\"volume_sequence_number\", c_uint16),\n",
    "        (\"reserved\", c_uint16),  # used for big endian\n",
    "        (\"name_length\", c_uint8),\n",
    "    ]\n",
    "\n",
    "    _children: dict = ...\n",
    "    parent = None\n",
    "    path = Path(\"/\")\n",
    "\n",
    "    @property\n",
    "    def is_directory(self):\n",
    "        return bool(self.flags & 0x2)\n",
    "\n",
    "    @property\n",
    "    def is_hidden(self):\n",
    "        return bool(self.flags & 0x1)\n",
    "\n",
    "    @property\n",
    "    def children(self):\n",
    "        if self.is_directory:\n",
    "            if self._children is ...:\n",
    "                get_directory(self)\n",
    "            return self._children\n",
    "\n",
    "    def __iter__(self):\n",
    "        return iter(self.children)\n",
    "\n",
    "    def __getitem__(self, k):\n",
    "        return self.children[k]\n",
    "\n",
    "    def __repr__(self) -> str:\n",
    "        if self.is_directory:\n",
    "            return f\"<Directory {repr(self.children)}>\"\n",
    "        return f\"<File {self.path} at block {self.location_of_extent} ({self.size_of_extent} bytes)>\""
   ]
  },
  {
   "cell_type": "markdown",
   "id": "cb85d62c",
   "metadata": {},
   "source": [
    "### Date and Time Format of `VolumeDescriptor`s\n",
    "Unlike `DirectoryEntryDateTime`, in `VolumeDescriptor`\n",
    "date and time fields are stored as regular strings except the time zone (`tz`) which is stored as `c_int8` denoting the time difference from GMT in 15 minute intervals."
   ]
  },
  {
   "cell_type": "code",
   "execution_count": 12,
   "id": "d9319d88",
   "metadata": {},
   "outputs": [],
   "source": [
    "class VolumeDescriptorDateTime(LittleEndianStructure):\n",
    "    _pack_ = 1\n",
    "    _fields_ = [\n",
    "        (\"year\", c_char * 4),\n",
    "        (\"month\", c_char * 2),\n",
    "        (\"day\", c_char * 2),\n",
    "        (\"hour\", c_char * 2),\n",
    "        (\"minute\", c_char * 2),\n",
    "        (\"second\", c_char * 2),\n",
    "        (\"milis\", c_char * 2),\n",
    "        (\"tz\", c_int8),\n",
    "    ]\n",
    "\n",
    "    def __repr__(self) -> str:\n",
    "        return (\n",
    "            f\"{self.year.decode()}-{self.month.decode()}-{self.day.decode()} \"\n",
    "            f\"{self.hour.decode()}:{self.minute.decode()}:{self.second.decode()}:{self.milis.decode()} \"\n",
    "            f\"{self.tz//4:+02}:{self.tz*15%60:02}\"\n",
    "        )"
   ]
  },
  {
   "cell_type": "markdown",
   "id": "cc038b25",
   "metadata": {},
   "source": [
    "### `VolumeDescriptor`s"
   ]
  },
  {
   "cell_type": "markdown",
   "id": "b9983320",
   "metadata": {},
   "source": [
    "First a set of `VolumeDescriptor`s read from the ISO9660 image in order to locate the `root` directory. \n",
    "There are two types of `VolumeDescriptor`s we can use. \n",
    "Primary `VolumeDescriptor` and supplementary `VolumeDescriptor`. \n",
    "\n",
    "- Primary `VolumeDescriptor` is the standart `VolumeDescriptor` and have some file name limitations. \n",
    "Usually file names are encoded with ASCII, but to avoid encoding errors on some nonstandart images it is recomended to use ANSI (`iso-8859-1`) character set.\n",
    "\n",
    "- Supplementary `VolumeDescriptor` is used for Joliet extension. \n",
    "File names are encoded in unicode (`utf-16_be`) character set.\n"
   ]
  },
  {
   "cell_type": "markdown",
   "id": "5d716410",
   "metadata": {},
   "source": [
    "Directory structure of both Primary and Joliet Volume Destriptors are very similar. \n",
    "Indeed additional fields used in Supplementary `VolumeDescriptor` for Joliet Extension are reserved fields in the primary `VolumeDescriptor`.\n",
    "So we use the Supplementary `VolumeDescriptor` structure as `VolumeDescriptor`.\n"
   ]
  },
  {
   "cell_type": "markdown",
   "id": "c4048b29",
   "metadata": {},
   "source": [
    "This is the structure of the Supplementary `VolumeDescriptor`.\n",
    "Some fields are only for Joliet extension. \n",
    "But those fileds are already reveserved in Primary `VolumeDescriptor`.\n",
    "\n",
    "All VolumeDescriptors must be `2048` bytes. \n",
    "This is why the `653` bytes reserved at the end of this structure."
   ]
  },
  {
   "cell_type": "code",
   "execution_count": 13,
   "id": "3456fe12",
   "metadata": {},
   "outputs": [],
   "source": [
    "class VolumeDescriptor(LittleEndianStructure):\n",
    "    _pack_ = 1\n",
    "    _fields_ = [\n",
    "        (\"type\", c_uint8),  # 0x01 for Primary and 0x02 for Joliet Extension\n",
    "        (\"signature\", c_char * 5),  # Must be CD001\n",
    "        (\"version\", c_uint8),\n",
    "        (\"volume_flags\", c_uint8),  # Used for Joliet Extension\n",
    "        (\"system\", c_char * 32),\n",
    "        (\"volume\", c_char * 32),\n",
    "        (\"reserved\", c_char * 8),\n",
    "        (\"volume_space_size\", c_uint32),\n",
    "        (\"reserved\", c_uint32),  # used for big endian\n",
    "        (\"escape_sequences\", c_char * 32),\n",
    "        (\"volume_set_size\", c_uint16),\n",
    "        (\"reserved\", c_uint16),  # used for big endian\n",
    "        (\"volume_sequence_number\", c_uint16),\n",
    "        (\"reserved\", c_uint16),  # used for big endian\n",
    "        (\"block_size\", c_uint16),\n",
    "        (\"reserved\", c_uint16),  # used for big endian\n",
    "        (\"path_table\", c_char * 24),  # we dont use this\n",
    "        (\"root_directory\", DirectoryEntry),\n",
    "        (\"reserved\", c_uint8),\n",
    "        (\"volume_set\", c_char * 128),\n",
    "        (\"publisher\", c_char * 128),\n",
    "        (\"data_praparer\", c_char * 128),\n",
    "        (\"application\", c_char * 128),\n",
    "        (\"copyright\", c_char * 37),\n",
    "        (\"abstract_file\", c_char * 37),\n",
    "        (\"bibliographic_file\", c_char * 37),\n",
    "        (\"creation_datetime\", VolumeDescriptorDateTime),\n",
    "        (\"modification_datetime\", VolumeDescriptorDateTime),\n",
    "        (\"expiration_datetime\", VolumeDescriptorDateTime),\n",
    "        (\"effective_datetime\", VolumeDescriptorDateTime),\n",
    "        (\"file_structure_version\", c_uint8),\n",
    "        (\"reserved\", c_char),\n",
    "        (\"application_used\", c_char * 512),\n",
    "        (\"reserved\", c_char * 653),\n",
    "    ]"
   ]
  },
  {
   "cell_type": "markdown",
   "id": "b82440ad",
   "metadata": {},
   "source": [
    "## Opening The File"
   ]
  },
  {
   "cell_type": "markdown",
   "id": "eeac48f4",
   "metadata": {},
   "source": [
    "Now we are ready to open the test file. We must open the file in *binary* mode. Since we will only read from the file, we are opening with mode `\"rb\"`."
   ]
  },
  {
   "cell_type": "code",
   "execution_count": 14,
   "id": "ebce95b6",
   "metadata": {},
   "outputs": [],
   "source": [
    "fd = open(iso_image_path := \"test/test2.iso\", \"rb\")"
   ]
  },
  {
   "cell_type": "markdown",
   "id": "fda668c7",
   "metadata": {},
   "source": [
    "## System Area"
   ]
  },
  {
   "cell_type": "markdown",
   "id": "4e451c07",
   "metadata": {},
   "source": [
    "ISO9660 File System consists of blocks of `2048` bytes.\n",
    "Unlike many other file systems, usefull data does not start at the very beginning of the image.\n",
    "Instead first `15` blocks of the image is not used by the `ISO9660` file system.\n",
    "This area is called **system area** and allows **hybrid** file systems."
   ]
  },
  {
   "cell_type": "code",
   "execution_count": 15,
   "id": "f56c045a",
   "metadata": {},
   "outputs": [
    {
     "data": {
      "text/plain": [
       "32768"
      ]
     },
     "execution_count": 15,
     "metadata": {},
     "output_type": "execute_result"
    }
   ],
   "source": [
    "fd.seek(16 * 2048, 0)"
   ]
  },
  {
   "cell_type": "markdown",
   "id": "52024435",
   "metadata": {},
   "source": [
    "## Reading the `VolumeDescriptor`"
   ]
  },
  {
   "cell_type": "markdown",
   "id": "978fba1a",
   "metadata": {},
   "source": [
    "First we should read the primary or supplementary `VolumeDescriptor`. Supplementary `VolumeDescriptor` is optional and may not be found."
   ]
  },
  {
   "cell_type": "markdown",
   "id": "8cb28713",
   "metadata": {},
   "source": [
    "\n",
    "Usually the primary `VolumeDescriptor` is located at block `16`.\n",
    "And Supplementary `VolumeDescriptor` used for Joliet Extension is found at block `17` if it exists.\n",
    "But in general you should search the blocks between `16-22` \n",
    "untill finding the `0xff` as `type`."
   ]
  },
  {
   "cell_type": "code",
   "execution_count": 16,
   "id": "26dde068",
   "metadata": {},
   "outputs": [],
   "source": [
    "def volume_descriptors(fd):\n",
    "    fd.seek(16 * 2048, 0)\n",
    "    while True:\n",
    "        vd = VolumeDescriptor()\n",
    "        fd.readinto(vd)\n",
    "        assert vd.signature == b\"CD001\", (hex(vd.type), vd.signature)\n",
    "        if vd.type == 0xff:\n",
    "            break\n",
    "        yield vd"
   ]
  },
  {
   "cell_type": "code",
   "execution_count": 17,
   "id": "b301ea97",
   "metadata": {},
   "outputs": [
    {
     "name": "stdout",
     "output_type": "stream",
     "text": [
      "Test File: test/test2.iso\n",
      "\n",
      "Primary Volume Descriptor\n",
      "  volume: \t tes2                            \n",
      "  system: \t Win32                           \n",
      "  application:\t PowerISO                                                                                                                        \n",
      "  Creation:\t 2023-12-20 14:43:45:00 +3:00\n"
     ]
    }
   ],
   "source": [
    "print(\"Test File:\", iso_image_path)\n",
    "for _vd in volume_descriptors(fd):\n",
    "    print()\n",
    "    match _vd.type:\n",
    "        case 0x00:\n",
    "            print(\"Boot Record\")\n",
    "        case 0x01:\n",
    "            print(\"Primary Volume Descriptor\")\n",
    "            print(\"  volume: \\t\", _vd.volume.decode(\"iso-8859-1\"))\n",
    "            print(\"  system: \\t\", _vd.system.decode(\"iso-8859-1\"))\n",
    "            print(\"  application:\\t\", _vd.application.decode(\"iso-8859-1\"))\n",
    "            print(\"  Creation:\\t\", _vd.creation_datetime)\n",
    "            vd = _vd\n",
    "        case 0x02:\n",
    "            print(\"Joliet Extension\")\n",
    "            print(\"  volume: \\t\", _vd.volume.decode(\"utf-16_be\"))\n",
    "            print(\"  system: \\t\", _vd.system.decode(\"utf-16_be\"))\n",
    "            print(\"  application:\\t\", _vd.application.decode(\"utf-16_be\"))\n",
    "            print(\"  Creation:\\t\", _vd.creation_datetime)\n",
    "            vd = _vd\n",
    "        case _:\n",
    "            print(\"Unknown Volume Decriptor\", hex(_vd.type))"
   ]
  },
  {
   "cell_type": "markdown",
   "id": "ef7c9304",
   "metadata": {},
   "source": [
    "## Listing The Directories"
   ]
  },
  {
   "cell_type": "markdown",
   "id": "2c4c5edd",
   "metadata": {},
   "source": [
    "For listing the directories we have two choices. \n",
    "- Either reading the `Pathtable` to find all the directories in the image. And then reading that directories.\n",
    "- Or directly reading the `root` directory of the image. And reading the remaining directories as needed. \n",
    "\n",
    "We choose the second because we don't want to implement additional `Pathtable` structure now.\n",
    "\n",
    "Note that each `DirectoryEntry` must fit to one block. \n",
    "If there is not enought space for a new `DirectoryEntry` the remainig bits of the block filled with zero and the new `DirectoryEntry` is written to next block."
   ]
  },
  {
   "cell_type": "code",
   "execution_count": 18,
   "id": "f6f86d38",
   "metadata": {},
   "outputs": [],
   "source": [
    "def get_directory(directory: DirectoryEntry):\n",
    "    fd.seek(directory.location_of_extent * vd.block_size, 0)\n",
    "\n",
    "    offset = 0\n",
    "    directory._children = dict()\n",
    "\n",
    "    while offset != directory.size_of_extent:\n",
    "        if fd.peek(1)[0] == 0x00:\n",
    "            next_block = -offset % vd.block_size\n",
    "            fd.seek(next_block, 1)\n",
    "            offset += next_block\n",
    "            continue\n",
    "\n",
    "        file = DirectoryEntry()\n",
    "        fd.readinto(file)\n",
    "\n",
    "        filename = fd.read(file.name_length)\n",
    "        if filename not in (b\"\\x00\", b\"\\x01\"):\n",
    "            file.path = directory.path / \\\n",
    "                filename.decode((\"iso-8859-1\", \"utf-16_be\")[vd.type - 1])\n",
    "            fd.seek(file.length - file.name_length - sizeof(file), 1)\n",
    "            directory._children[file.path.name] = file\n",
    "            file.parent = directory\n",
    "        offset += file.length"
   ]
  },
  {
   "cell_type": "code",
   "execution_count": 19,
   "id": "a8019db3",
   "metadata": {},
   "outputs": [
    {
     "data": {
      "text/plain": [
       "<Directory {'TEST1': <Directory {'TEST01.TXT': <File /TEST1/TEST01.TXT at block 27 (4 bytes)>, 'TEST02.TXT': <File /TEST1/TEST02.TXT at block 27 (4 bytes)>, 'TEST03.TXT': <File /TEST1/TEST03.TXT at block 27 (4 bytes)>, 'TEST04.TXT': <File /TEST1/TEST04.TXT at block 27 (4 bytes)>, 'TEST2': <Directory {'TEST05.TXT': <File /TEST1/TEST2/TEST05.TXT at block 27 (4 bytes)>, 'TEST06.TXT': <File /TEST1/TEST2/TEST06.TXT at block 27 (4 bytes)>, 'TEST07.TXT': <File /TEST1/TEST2/TEST07.TXT at block 27 (4 bytes)>, 'TEST08.TXT': <File /TEST1/TEST2/TEST08.TXT at block 27 (4 bytes)>}>, 'TEST3': <Directory {'TEST09.TXT': <File /TEST1/TEST3/TEST09.TXT at block 27 (4 bytes)>}>}>}>"
      ]
     },
     "execution_count": 19,
     "metadata": {},
     "output_type": "execute_result"
    }
   ],
   "source": [
    "vd.root_directory"
   ]
  },
  {
   "cell_type": "code",
   "execution_count": 20,
   "id": "d9208e70",
   "metadata": {},
   "outputs": [
    {
     "data": {
      "text/plain": [
       "<File /TEST1/TEST01.TXT at block 27 (4 bytes)>"
      ]
     },
     "execution_count": 20,
     "metadata": {},
     "output_type": "execute_result"
    }
   ],
   "source": [
    "vd.root_directory[\"TEST1\"]['TEST01.TXT']"
   ]
  },
  {
   "cell_type": "markdown",
   "id": "25f4e4de",
   "metadata": {},
   "source": [
    "To get a file or directory by path we will define the following recursive function."
   ]
  },
  {
   "cell_type": "code",
   "execution_count": 21,
   "id": "0fb19294",
   "metadata": {},
   "outputs": [],
   "source": [
    "def get_file(path: Path):\n",
    "    if path == path.parent:  # is root directory\n",
    "        return vd.root_directory\n",
    "    return get_file(path.parent)[path.name]"
   ]
  },
  {
   "cell_type": "code",
   "execution_count": 22,
   "id": "28cc06ec",
   "metadata": {},
   "outputs": [
    {
     "data": {
      "text/plain": [
       "<File /TEST1/TEST02.TXT at block 27 (4 bytes)>"
      ]
     },
     "execution_count": 22,
     "metadata": {},
     "output_type": "execute_result"
    }
   ],
   "source": [
    "get_file(Path(\"/TEST1/TEST02.TXT\"))"
   ]
  },
  {
   "cell_type": "markdown",
   "id": "96ce2801",
   "metadata": {},
   "source": [
    "## Reading The Files"
   ]
  },
  {
   "cell_type": "markdown",
   "id": "d7aec7c2",
   "metadata": {},
   "source": [
    "The following function `read_file` prints the contents of the **text** file in given path if it is a regular file.\n",
    "If the file is a directory, then `read_file` prints the file names in that directory."
   ]
  },
  {
   "cell_type": "code",
   "execution_count": 23,
   "id": "3788f8b3",
   "metadata": {},
   "outputs": [],
   "source": [
    "def read_file(file: DirectoryEntry | Path | str):\n",
    "    if isinstance(file, DirectoryEntry):\n",
    "        if file.is_directory:\n",
    "            for subfile in file:\n",
    "                print(subfile)\n",
    "        else:\n",
    "            fd.seek(file.location_of_extent * vd.block_size, 0)\n",
    "            size = file.size_of_extent\n",
    "            while size:\n",
    "                data = fd.read(size)\n",
    "                size -= len(data)\n",
    "                print(data.decode(), end=\"\")\n",
    "            return\n",
    "    if isinstance(file, Path):\n",
    "        return read_file(get_file(file))\n",
    "    if isinstance(file, str):\n",
    "        return read_file(get_file(Path(file)))"
   ]
  },
  {
   "cell_type": "code",
   "execution_count": 24,
   "id": "5d92ebde",
   "metadata": {},
   "outputs": [
    {
     "name": "stdout",
     "output_type": "stream",
     "text": [
      "test"
     ]
    }
   ],
   "source": [
    "read_file(\"/TEST1/TEST01.TXT\")"
   ]
  },
  {
   "cell_type": "code",
   "execution_count": 25,
   "id": "ebcf68c2",
   "metadata": {},
   "outputs": [
    {
     "name": "stdout",
     "output_type": "stream",
     "text": [
      "TEST05.TXT\n",
      "TEST06.TXT\n",
      "TEST07.TXT\n",
      "TEST08.TXT\n"
     ]
    }
   ],
   "source": [
    "read_file(\"/TEST1/TEST2\")"
   ]
  }
 ],
 "metadata": {
  "kernelspec": {
   "display_name": "Python 3 (ipykernel)",
   "language": "python",
   "name": "python3"
  },
  "language_info": {
   "codemirror_mode": {
    "name": "ipython",
    "version": 3
   },
   "file_extension": ".py",
   "mimetype": "text/x-python",
   "name": "python",
   "nbconvert_exporter": "python",
   "pygments_lexer": "ipython3",
   "version": "3.11.2"
  },
  "widgets": {
   "application/vnd.jupyter.widget-state+json": {
    "state": {},
    "version_major": 2,
    "version_minor": 0
   }
  }
 },
 "nbformat": 4,
 "nbformat_minor": 5
}
